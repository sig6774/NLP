{
 "cells": [
  {
   "cell_type": "code",
   "execution_count": 20,
   "metadata": {},
   "outputs": [],
   "source": [
    "import numpy as np \n",
    "import pandas as pd \n",
    "import os\n",
    "import seaborn as sns\n",
    "import matplotlib.pyplot as plt\n",
    "import warnings\n",
    "warnings.simplefilter('ignore')\n",
    "sns.set(rc={'figure.figsize' : (12, 6)})\n",
    "sns.set_style(\"darkgrid\", {'axes.grid' : True})\n",
    "import skimage\n",
    "import re\n",
    "\n",
    "import tensorflow as tf\n",
    "from tensorflow import keras"
   ]
  },
  {
   "cell_type": "code",
   "execution_count": 23,
   "metadata": {},
   "outputs": [],
   "source": [
    "import nltk\n",
    "from bs4 import BeautifulSoup\n",
    "from nltk.corpus import stopwords\n",
    "from nltk.stem.porter import PorterStemmer\n",
    "english_stemmer=nltk.stem.SnowballStemmer('english')"
   ]
  },
  {
   "cell_type": "code",
   "execution_count": 6,
   "metadata": {},
   "outputs": [],
   "source": [
    "df = pd.read_csv('./Text Data/IMDB Dataset.csv')"
   ]
  },
  {
   "cell_type": "code",
   "execution_count": 7,
   "metadata": {},
   "outputs": [
    {
     "data": {
      "text/html": [
       "<div>\n",
       "<style scoped>\n",
       "    .dataframe tbody tr th:only-of-type {\n",
       "        vertical-align: middle;\n",
       "    }\n",
       "\n",
       "    .dataframe tbody tr th {\n",
       "        vertical-align: top;\n",
       "    }\n",
       "\n",
       "    .dataframe thead th {\n",
       "        text-align: right;\n",
       "    }\n",
       "</style>\n",
       "<table border=\"1\" class=\"dataframe\">\n",
       "  <thead>\n",
       "    <tr style=\"text-align: right;\">\n",
       "      <th></th>\n",
       "      <th>review</th>\n",
       "      <th>sentiment</th>\n",
       "    </tr>\n",
       "  </thead>\n",
       "  <tbody>\n",
       "    <tr>\n",
       "      <td>0</td>\n",
       "      <td>One of the other reviewers has mentioned that ...</td>\n",
       "      <td>positive</td>\n",
       "    </tr>\n",
       "    <tr>\n",
       "      <td>1</td>\n",
       "      <td>A wonderful little production. &lt;br /&gt;&lt;br /&gt;The...</td>\n",
       "      <td>positive</td>\n",
       "    </tr>\n",
       "    <tr>\n",
       "      <td>2</td>\n",
       "      <td>I thought this was a wonderful way to spend ti...</td>\n",
       "      <td>positive</td>\n",
       "    </tr>\n",
       "    <tr>\n",
       "      <td>3</td>\n",
       "      <td>Basically there's a family where a little boy ...</td>\n",
       "      <td>negative</td>\n",
       "    </tr>\n",
       "    <tr>\n",
       "      <td>4</td>\n",
       "      <td>Petter Mattei's \"Love in the Time of Money\" is...</td>\n",
       "      <td>positive</td>\n",
       "    </tr>\n",
       "  </tbody>\n",
       "</table>\n",
       "</div>"
      ],
      "text/plain": [
       "                                              review sentiment\n",
       "0  One of the other reviewers has mentioned that ...  positive\n",
       "1  A wonderful little production. <br /><br />The...  positive\n",
       "2  I thought this was a wonderful way to spend ti...  positive\n",
       "3  Basically there's a family where a little boy ...  negative\n",
       "4  Petter Mattei's \"Love in the Time of Money\" is...  positive"
      ]
     },
     "execution_count": 7,
     "metadata": {},
     "output_type": "execute_result"
    }
   ],
   "source": [
    "df.head()"
   ]
  },
  {
   "cell_type": "code",
   "execution_count": 8,
   "metadata": {},
   "outputs": [
    {
     "name": "stdout",
     "output_type": "stream",
     "text": [
      "<class 'pandas.core.frame.DataFrame'>\n",
      "RangeIndex: 50000 entries, 0 to 49999\n",
      "Data columns (total 2 columns):\n",
      "review       50000 non-null object\n",
      "sentiment    50000 non-null object\n",
      "dtypes: object(2)\n",
      "memory usage: 781.4+ KB\n"
     ]
    }
   ],
   "source": [
    "df.info()"
   ]
  },
  {
   "cell_type": "code",
   "execution_count": 34,
   "metadata": {},
   "outputs": [
    {
     "data": {
      "text/plain": [
       "review       0\n",
       "sentiment    0\n",
       "dtype: int64"
      ]
     },
     "execution_count": 34,
     "metadata": {},
     "output_type": "execute_result"
    }
   ],
   "source": [
    "df.isnull().sum()"
   ]
  },
  {
   "cell_type": "code",
   "execution_count": 11,
   "metadata": {},
   "outputs": [
    {
     "data": {
      "text/plain": [
       "positive    25000\n",
       "negative    25000\n",
       "Name: sentiment, dtype: int64"
      ]
     },
     "execution_count": 11,
     "metadata": {},
     "output_type": "execute_result"
    }
   ],
   "source": [
    "df['sentiment'].value_counts()\n",
    "#긍정과 부정이 각 25000개씩 분포되어있음"
   ]
  },
  {
   "cell_type": "code",
   "execution_count": 13,
   "metadata": {},
   "outputs": [
    {
     "data": {
      "text/html": [
       "<div>\n",
       "<style scoped>\n",
       "    .dataframe tbody tr th:only-of-type {\n",
       "        vertical-align: middle;\n",
       "    }\n",
       "\n",
       "    .dataframe tbody tr th {\n",
       "        vertical-align: top;\n",
       "    }\n",
       "\n",
       "    .dataframe thead th {\n",
       "        text-align: right;\n",
       "    }\n",
       "</style>\n",
       "<table border=\"1\" class=\"dataframe\">\n",
       "  <thead>\n",
       "    <tr style=\"text-align: right;\">\n",
       "      <th></th>\n",
       "      <th>review</th>\n",
       "      <th>sentiment</th>\n",
       "    </tr>\n",
       "  </thead>\n",
       "  <tbody>\n",
       "    <tr>\n",
       "      <td>0</td>\n",
       "      <td>One of the other reviewers has mentioned that ...</td>\n",
       "      <td>1</td>\n",
       "    </tr>\n",
       "    <tr>\n",
       "      <td>1</td>\n",
       "      <td>A wonderful little production. &lt;br /&gt;&lt;br /&gt;The...</td>\n",
       "      <td>1</td>\n",
       "    </tr>\n",
       "    <tr>\n",
       "      <td>2</td>\n",
       "      <td>I thought this was a wonderful way to spend ti...</td>\n",
       "      <td>1</td>\n",
       "    </tr>\n",
       "    <tr>\n",
       "      <td>3</td>\n",
       "      <td>Basically there's a family where a little boy ...</td>\n",
       "      <td>0</td>\n",
       "    </tr>\n",
       "    <tr>\n",
       "      <td>4</td>\n",
       "      <td>Petter Mattei's \"Love in the Time of Money\" is...</td>\n",
       "      <td>1</td>\n",
       "    </tr>\n",
       "  </tbody>\n",
       "</table>\n",
       "</div>"
      ],
      "text/plain": [
       "                                              review  sentiment\n",
       "0  One of the other reviewers has mentioned that ...          1\n",
       "1  A wonderful little production. <br /><br />The...          1\n",
       "2  I thought this was a wonderful way to spend ti...          1\n",
       "3  Basically there's a family where a little boy ...          0\n",
       "4  Petter Mattei's \"Love in the Time of Money\" is...          1"
      ]
     },
     "execution_count": 13,
     "metadata": {},
     "output_type": "execute_result"
    }
   ],
   "source": [
    "from sklearn import preprocessing\n",
    "label_encoder = preprocessing.LabelEncoder()\n",
    "df['sentiment'] = label_encoder.fit_transform(df['sentiment'])\n",
    "df.head()\n",
    "#preprocessing을 사용하여 positive를 1, negative를 0으로 변환 "
   ]
  },
  {
   "cell_type": "code",
   "execution_count": 16,
   "metadata": {
    "scrolled": true
   },
   "outputs": [
    {
     "data": {
      "image/png": "[encoded data removed]",
      "text/plain": [
       "<Figure size 720x432 with 1 Axes>"
      ]
     },
     "metadata": {},
     "output_type": "display_data"
    }
   ],
   "source": [
    "plt.figure(figsize=(10, 6))\n",
    "plt.hist([len(sample) for sample in list(df['review'])], 50)\n",
    "plt.xlabel('Length of samples')\n",
    "plt.ylabel('Number of samples')\n",
    "plt.title('Sample length distribution')\n",
    "plt.show()\n",
    "#4000개까지가 대부분의 review의 길이이며 대다수가 4000개미만으로 분포되어있다"
   ]
  },
  {
   "cell_type": "markdown",
   "metadata": {},
   "source": [
    "### 분석에 전처리가 없어 전처리과정만 추가하였습니다"
   ]
  },
  {
   "cell_type": "code",
   "execution_count": 17,
   "metadata": {},
   "outputs": [],
   "source": [
    "def review_to_wordlist(review, remove_stopwords = True):\n",
    "\n",
    "    \n",
    "    review_text = re.sub('[^a-zA-Z]',\" \", review)\n",
    "    #review_text에 영어만 넣기 \n",
    "    \n",
    "    words = review_text.lower().split()\n",
    "    #소문자로 바꿔주고 그것들을 분리해준다 \n",
    "    \n",
    "    if remove_stopwords:\n",
    "        stops = set(stopwords.words('english'))\n",
    "        words = [w for w in words if not w in stops]\n",
    "        #stops에 영어의 불용어를 넣어줌 \n",
    "        #words는 소문자로 변환되고 띄어져있는 것이며 \n",
    "        #stops에 있는 불용어를 제외하고 넣어줌 \n",
    "        \n",
    "    b = []\n",
    "    stemmer = english_stemmer\n",
    "    for word in words:\n",
    "        b.append(stemmer.stem(word))\n",
    "        #words에 전처리된것들의 어간들만 추출 \n",
    "        \n",
    "    return(b)"
   ]
  },
  {
   "cell_type": "code",
   "execution_count": 24,
   "metadata": {},
   "outputs": [],
   "source": [
    "clean_reviews = []\n",
    "for review in df['review']:\n",
    "    clean_reviews.append( \" \".join(review_to_wordlist(review)))"
   ]
  },
  {
   "cell_type": "code",
   "execution_count": 33,
   "metadata": {},
   "outputs": [
    {
     "data": {
      "text/plain": [
       "list"
      ]
     },
     "execution_count": 33,
     "metadata": {},
     "output_type": "execute_result"
    }
   ],
   "source": [
    "type(clean_reviews)"
   ]
  },
  {
   "cell_type": "code",
   "execution_count": 35,
   "metadata": {},
   "outputs": [],
   "source": [
    "clean_reviews = pd.DataFrame(clean_reviews)"
   ]
  },
  {
   "cell_type": "code",
   "execution_count": 36,
   "metadata": {},
   "outputs": [],
   "source": [
    "df1 = pd.concat([clean_reviews,df['sentiment']], axis =1 )"
   ]
  },
  {
   "cell_type": "code",
   "execution_count": 38,
   "metadata": {},
   "outputs": [
    {
     "data": {
      "text/html": [
       "<div>\n",
       "<style scoped>\n",
       "    .dataframe tbody tr th:only-of-type {\n",
       "        vertical-align: middle;\n",
       "    }\n",
       "\n",
       "    .dataframe tbody tr th {\n",
       "        vertical-align: top;\n",
       "    }\n",
       "\n",
       "    .dataframe thead th {\n",
       "        text-align: right;\n",
       "    }\n",
       "</style>\n",
       "<table border=\"1\" class=\"dataframe\">\n",
       "  <thead>\n",
       "    <tr style=\"text-align: right;\">\n",
       "      <th></th>\n",
       "      <th>review</th>\n",
       "      <th>sentiment</th>\n",
       "    </tr>\n",
       "  </thead>\n",
       "  <tbody>\n",
       "    <tr>\n",
       "      <td>0</td>\n",
       "      <td>One of the other reviewers has mentioned that ...</td>\n",
       "      <td>1</td>\n",
       "    </tr>\n",
       "    <tr>\n",
       "      <td>1</td>\n",
       "      <td>A wonderful little production. &lt;br /&gt;&lt;br /&gt;The...</td>\n",
       "      <td>1</td>\n",
       "    </tr>\n",
       "    <tr>\n",
       "      <td>2</td>\n",
       "      <td>I thought this was a wonderful way to spend ti...</td>\n",
       "      <td>1</td>\n",
       "    </tr>\n",
       "    <tr>\n",
       "      <td>3</td>\n",
       "      <td>Basically there's a family where a little boy ...</td>\n",
       "      <td>0</td>\n",
       "    </tr>\n",
       "    <tr>\n",
       "      <td>4</td>\n",
       "      <td>Petter Mattei's \"Love in the Time of Money\" is...</td>\n",
       "      <td>1</td>\n",
       "    </tr>\n",
       "    <tr>\n",
       "      <td>...</td>\n",
       "      <td>...</td>\n",
       "      <td>...</td>\n",
       "    </tr>\n",
       "    <tr>\n",
       "      <td>49995</td>\n",
       "      <td>I thought this movie did a down right good job...</td>\n",
       "      <td>1</td>\n",
       "    </tr>\n",
       "    <tr>\n",
       "      <td>49996</td>\n",
       "      <td>Bad plot, bad dialogue, bad acting, idiotic di...</td>\n",
       "      <td>0</td>\n",
       "    </tr>\n",
       "    <tr>\n",
       "      <td>49997</td>\n",
       "      <td>I am a Catholic taught in parochial elementary...</td>\n",
       "      <td>0</td>\n",
       "    </tr>\n",
       "    <tr>\n",
       "      <td>49998</td>\n",
       "      <td>I'm going to have to disagree with the previou...</td>\n",
       "      <td>0</td>\n",
       "    </tr>\n",
       "    <tr>\n",
       "      <td>49999</td>\n",
       "      <td>No one expects the Star Trek movies to be high...</td>\n",
       "      <td>0</td>\n",
       "    </tr>\n",
       "  </tbody>\n",
       "</table>\n",
       "<p>50000 rows × 2 columns</p>\n",
       "</div>"
      ],
      "text/plain": [
       "                                                  review  sentiment\n",
       "0      One of the other reviewers has mentioned that ...          1\n",
       "1      A wonderful little production. <br /><br />The...          1\n",
       "2      I thought this was a wonderful way to spend ti...          1\n",
       "3      Basically there's a family where a little boy ...          0\n",
       "4      Petter Mattei's \"Love in the Time of Money\" is...          1\n",
       "...                                                  ...        ...\n",
       "49995  I thought this movie did a down right good job...          1\n",
       "49996  Bad plot, bad dialogue, bad acting, idiotic di...          0\n",
       "49997  I am a Catholic taught in parochial elementary...          0\n",
       "49998  I'm going to have to disagree with the previou...          0\n",
       "49999  No one expects the Star Trek movies to be high...          0\n",
       "\n",
       "[50000 rows x 2 columns]"
      ]
     },
     "execution_count": 38,
     "metadata": {},
     "output_type": "execute_result"
    }
   ],
   "source": [
    "df"
   ]
  },
  {
   "cell_type": "code",
   "execution_count": 37,
   "metadata": {
    "scrolled": true
   },
   "outputs": [
    {
     "data": {
      "text/html": [
       "<div>\n",
       "<style scoped>\n",
       "    .dataframe tbody tr th:only-of-type {\n",
       "        vertical-align: middle;\n",
       "    }\n",
       "\n",
       "    .dataframe tbody tr th {\n",
       "        vertical-align: top;\n",
       "    }\n",
       "\n",
       "    .dataframe thead th {\n",
       "        text-align: right;\n",
       "    }\n",
       "</style>\n",
       "<table border=\"1\" class=\"dataframe\">\n",
       "  <thead>\n",
       "    <tr style=\"text-align: right;\">\n",
       "      <th></th>\n",
       "      <th>0</th>\n",
       "      <th>sentiment</th>\n",
       "    </tr>\n",
       "  </thead>\n",
       "  <tbody>\n",
       "    <tr>\n",
       "      <td>0</td>\n",
       "      <td>one review mention watch oz episod hook right ...</td>\n",
       "      <td>1</td>\n",
       "    </tr>\n",
       "    <tr>\n",
       "      <td>1</td>\n",
       "      <td>wonder littl product br br film techniqu unass...</td>\n",
       "      <td>1</td>\n",
       "    </tr>\n",
       "    <tr>\n",
       "      <td>2</td>\n",
       "      <td>thought wonder way spend time hot summer weeke...</td>\n",
       "      <td>1</td>\n",
       "    </tr>\n",
       "    <tr>\n",
       "      <td>3</td>\n",
       "      <td>basic famili littl boy jake think zombi closet...</td>\n",
       "      <td>0</td>\n",
       "    </tr>\n",
       "    <tr>\n",
       "      <td>4</td>\n",
       "      <td>petter mattei love time money visual stun film...</td>\n",
       "      <td>1</td>\n",
       "    </tr>\n",
       "    <tr>\n",
       "      <td>...</td>\n",
       "      <td>...</td>\n",
       "      <td>...</td>\n",
       "    </tr>\n",
       "    <tr>\n",
       "      <td>49995</td>\n",
       "      <td>thought movi right good job creativ origin fir...</td>\n",
       "      <td>1</td>\n",
       "    </tr>\n",
       "    <tr>\n",
       "      <td>49996</td>\n",
       "      <td>bad plot bad dialogu bad act idiot direct anno...</td>\n",
       "      <td>0</td>\n",
       "    </tr>\n",
       "    <tr>\n",
       "      <td>49997</td>\n",
       "      <td>cathol taught parochi elementari school nun ta...</td>\n",
       "      <td>0</td>\n",
       "    </tr>\n",
       "    <tr>\n",
       "      <td>49998</td>\n",
       "      <td>go disagre previous comment side maltin one se...</td>\n",
       "      <td>0</td>\n",
       "    </tr>\n",
       "    <tr>\n",
       "      <td>49999</td>\n",
       "      <td>one expect star trek movi high art fan expect ...</td>\n",
       "      <td>0</td>\n",
       "    </tr>\n",
       "  </tbody>\n",
       "</table>\n",
       "<p>50000 rows × 2 columns</p>\n",
       "</div>"
      ],
      "text/plain": [
       "                                                       0  sentiment\n",
       "0      one review mention watch oz episod hook right ...          1\n",
       "1      wonder littl product br br film techniqu unass...          1\n",
       "2      thought wonder way spend time hot summer weeke...          1\n",
       "3      basic famili littl boy jake think zombi closet...          0\n",
       "4      petter mattei love time money visual stun film...          1\n",
       "...                                                  ...        ...\n",
       "49995  thought movi right good job creativ origin fir...          1\n",
       "49996  bad plot bad dialogu bad act idiot direct anno...          0\n",
       "49997  cathol taught parochi elementari school nun ta...          0\n",
       "49998  go disagre previous comment side maltin one se...          0\n",
       "49999  one expect star trek movi high art fan expect ...          0\n",
       "\n",
       "[50000 rows x 2 columns]"
      ]
     },
     "execution_count": 37,
     "metadata": {},
     "output_type": "execute_result"
    }
   ],
   "source": [
    "df1\n",
    "#분석에 필요없는 단어들(불용어)들이 삭제된것을 볼 수 있다."
   ]
  },
  {
   "cell_type": "code",
   "execution_count": 42,
   "metadata": {},
   "outputs": [
    {
     "data": {
      "text/html": [
       "<div>\n",
       "<style scoped>\n",
       "    .dataframe tbody tr th:only-of-type {\n",
       "        vertical-align: middle;\n",
       "    }\n",
       "\n",
       "    .dataframe tbody tr th {\n",
       "        vertical-align: top;\n",
       "    }\n",
       "\n",
       "    .dataframe thead th {\n",
       "        text-align: right;\n",
       "    }\n",
       "</style>\n",
       "<table border=\"1\" class=\"dataframe\">\n",
       "  <thead>\n",
       "    <tr style=\"text-align: right;\">\n",
       "      <th></th>\n",
       "      <th>review</th>\n",
       "      <th>sentiment</th>\n",
       "    </tr>\n",
       "  </thead>\n",
       "  <tbody>\n",
       "    <tr>\n",
       "      <td>0</td>\n",
       "      <td>one review mention watch oz episod hook right ...</td>\n",
       "      <td>1</td>\n",
       "    </tr>\n",
       "    <tr>\n",
       "      <td>1</td>\n",
       "      <td>wonder littl product br br film techniqu unass...</td>\n",
       "      <td>1</td>\n",
       "    </tr>\n",
       "    <tr>\n",
       "      <td>2</td>\n",
       "      <td>thought wonder way spend time hot summer weeke...</td>\n",
       "      <td>1</td>\n",
       "    </tr>\n",
       "    <tr>\n",
       "      <td>3</td>\n",
       "      <td>basic famili littl boy jake think zombi closet...</td>\n",
       "      <td>0</td>\n",
       "    </tr>\n",
       "    <tr>\n",
       "      <td>4</td>\n",
       "      <td>petter mattei love time money visual stun film...</td>\n",
       "      <td>1</td>\n",
       "    </tr>\n",
       "    <tr>\n",
       "      <td>...</td>\n",
       "      <td>...</td>\n",
       "      <td>...</td>\n",
       "    </tr>\n",
       "    <tr>\n",
       "      <td>49995</td>\n",
       "      <td>thought movi right good job creativ origin fir...</td>\n",
       "      <td>1</td>\n",
       "    </tr>\n",
       "    <tr>\n",
       "      <td>49996</td>\n",
       "      <td>bad plot bad dialogu bad act idiot direct anno...</td>\n",
       "      <td>0</td>\n",
       "    </tr>\n",
       "    <tr>\n",
       "      <td>49997</td>\n",
       "      <td>cathol taught parochi elementari school nun ta...</td>\n",
       "      <td>0</td>\n",
       "    </tr>\n",
       "    <tr>\n",
       "      <td>49998</td>\n",
       "      <td>go disagre previous comment side maltin one se...</td>\n",
       "      <td>0</td>\n",
       "    </tr>\n",
       "    <tr>\n",
       "      <td>49999</td>\n",
       "      <td>one expect star trek movi high art fan expect ...</td>\n",
       "      <td>0</td>\n",
       "    </tr>\n",
       "  </tbody>\n",
       "</table>\n",
       "<p>50000 rows × 2 columns</p>\n",
       "</div>"
      ],
      "text/plain": [
       "                                                  review  sentiment\n",
       "0      one review mention watch oz episod hook right ...          1\n",
       "1      wonder littl product br br film techniqu unass...          1\n",
       "2      thought wonder way spend time hot summer weeke...          1\n",
       "3      basic famili littl boy jake think zombi closet...          0\n",
       "4      petter mattei love time money visual stun film...          1\n",
       "...                                                  ...        ...\n",
       "49995  thought movi right good job creativ origin fir...          1\n",
       "49996  bad plot bad dialogu bad act idiot direct anno...          0\n",
       "49997  cathol taught parochi elementari school nun ta...          0\n",
       "49998  go disagre previous comment side maltin one se...          0\n",
       "49999  one expect star trek movi high art fan expect ...          0\n",
       "\n",
       "[50000 rows x 2 columns]"
      ]
     },
     "execution_count": 42,
     "metadata": {},
     "output_type": "execute_result"
    }
   ],
   "source": [
    "Data = df1.rename({0: 'review'}, axis = 'columns')\n",
    "Data\n",
    "#컬럼명을 0에서 review로 변경 "
   ]
  },
  {
   "cell_type": "code",
   "execution_count": 26,
   "metadata": {},
   "outputs": [],
   "source": [
    "from sklearn.feature_extraction.text import TfidfVectorizer\n",
    "from sklearn.feature_selection import SelectKBest\n",
    "from sklearn.feature_selection import f_classif\n",
    "NGRAM_RANGE = (1, 2)\n",
    "TOP_K = 20000\n",
    "TOKEN_MODE = 'word'\n",
    "MIN_DOC_FREQ = 2"
   ]
  },
  {
   "cell_type": "code",
   "execution_count": 46,
   "metadata": {},
   "outputs": [],
   "source": [
    "def ngram_vectorize(texts, labels):\n",
    "    kwargs = {\n",
    "        'ngram_range' : NGRAM_RANGE,\n",
    "        'dtype' : 'int32',\n",
    "        'strip_accents' : 'unicode',\n",
    "        #strip_accents : 전처리에서 악센트를 제거하고 문자들을 정규화\n",
    "        'decode_error' : 'replace',\n",
    "        #문자를 포함하는 분석을 위해 바이트 시퀀스가 제공되는 경우 수행\n",
    "        'analyzer' : TOKEN_MODE,\n",
    "        'min_df': MIN_DOC_FREQ,\n",
    "    }\n",
    "    tfidf_vectorizer = TfidfVectorizer(**kwargs)\n",
    "    # *왜 들어가는 지 모르겠음 \n",
    "    transformed_texts = tfidf_vectorizer.fit_transform(texts)\n",
    "    #transformed_text에 tfidf벡터화로 변환한것을 추가 \n",
    "    \n",
    "    selector = SelectKBest(f_classif, k = min(TOP_K, transformed_texts.shape[1]))\n",
    "    #20000만개\n",
    "    selector.fit(transformed_texts, labels)\n",
    "    transformed_texts = selector.transform(transformed_texts).astype('float32')\n",
    "    return transformed_texts\n",
    "    #selectKBest : 성능이 좋은 변수만 사용하는 전처리기\n",
    "    #f_classif : 분산분석 F검정 통계값\n",
    "\n",
    "vect_data = ngram_vectorize(Data['review'], Data['sentiment'])"
   ]
  },
  {
   "cell_type": "code",
   "execution_count": 50,
   "metadata": {},
   "outputs": [
    {
     "data": {
      "text/plain": [
       "<50000x20000 sparse matrix of type '<class 'numpy.float32'>'\n",
       "\twith 3971088 stored elements in Compressed Sparse Row format>"
      ]
     },
     "execution_count": 50,
     "metadata": {},
     "output_type": "execute_result"
    }
   ],
   "source": [
    "vect_data"
   ]
  },
  {
   "cell_type": "markdown",
   "metadata": {},
   "source": [
    "#### ================ 위의 함수 예시 ================="
   ]
  },
  {
   "cell_type": "code",
   "execution_count": 53,
   "metadata": {},
   "outputs": [
    {
     "data": {
      "text/html": [
       "<div>\n",
       "<style scoped>\n",
       "    .dataframe tbody tr th:only-of-type {\n",
       "        vertical-align: middle;\n",
       "    }\n",
       "\n",
       "    .dataframe tbody tr th {\n",
       "        vertical-align: top;\n",
       "    }\n",
       "\n",
       "    .dataframe thead th {\n",
       "        text-align: right;\n",
       "    }\n",
       "</style>\n",
       "<table border=\"1\" class=\"dataframe\">\n",
       "  <thead>\n",
       "    <tr style=\"text-align: right;\">\n",
       "      <th></th>\n",
       "      <th>review</th>\n",
       "      <th>sentiment</th>\n",
       "    </tr>\n",
       "  </thead>\n",
       "  <tbody>\n",
       "    <tr>\n",
       "      <td>1</td>\n",
       "      <td>wonder littl product br br film techniqu unass...</td>\n",
       "      <td>1</td>\n",
       "    </tr>\n",
       "    <tr>\n",
       "      <td>2</td>\n",
       "      <td>thought wonder way spend time hot summer weeke...</td>\n",
       "      <td>1</td>\n",
       "    </tr>\n",
       "    <tr>\n",
       "      <td>3</td>\n",
       "      <td>basic famili littl boy jake think zombi closet...</td>\n",
       "      <td>0</td>\n",
       "    </tr>\n",
       "    <tr>\n",
       "      <td>4</td>\n",
       "      <td>petter mattei love time money visual stun film...</td>\n",
       "      <td>1</td>\n",
       "    </tr>\n",
       "    <tr>\n",
       "      <td>5</td>\n",
       "      <td>probabl time favorit movi stori selfless sacri...</td>\n",
       "      <td>1</td>\n",
       "    </tr>\n",
       "    <tr>\n",
       "      <td>6</td>\n",
       "      <td>sure would like see resurrect date seahunt ser...</td>\n",
       "      <td>1</td>\n",
       "    </tr>\n",
       "    <tr>\n",
       "      <td>7</td>\n",
       "      <td>show amaz fresh innov idea first air first yea...</td>\n",
       "      <td>0</td>\n",
       "    </tr>\n",
       "    <tr>\n",
       "      <td>8</td>\n",
       "      <td>encourag posit comment film look forward watch...</td>\n",
       "      <td>0</td>\n",
       "    </tr>\n",
       "    <tr>\n",
       "      <td>9</td>\n",
       "      <td>like origin gut wrench laughter like movi youn...</td>\n",
       "      <td>1</td>\n",
       "    </tr>\n",
       "  </tbody>\n",
       "</table>\n",
       "</div>"
      ],
      "text/plain": [
       "                                              review  sentiment\n",
       "1  wonder littl product br br film techniqu unass...          1\n",
       "2  thought wonder way spend time hot summer weeke...          1\n",
       "3  basic famili littl boy jake think zombi closet...          0\n",
       "4  petter mattei love time money visual stun film...          1\n",
       "5  probabl time favorit movi stori selfless sacri...          1\n",
       "6  sure would like see resurrect date seahunt ser...          1\n",
       "7  show amaz fresh innov idea first air first yea...          0\n",
       "8  encourag posit comment film look forward watch...          0\n",
       "9  like origin gut wrench laughter like movi youn...          1"
      ]
     },
     "execution_count": 53,
     "metadata": {},
     "output_type": "execute_result"
    }
   ],
   "source": [
    "SData = Data[1:10]\n",
    "SData"
   ]
  },
  {
   "cell_type": "code",
   "execution_count": 54,
   "metadata": {},
   "outputs": [
    {
     "data": {
      "text/plain": [
       "<9x70 sparse matrix of type '<class 'numpy.float32'>'\n",
       "\twith 200 stored elements in Compressed Sparse Row format>"
      ]
     },
     "execution_count": 54,
     "metadata": {},
     "output_type": "execute_result"
    }
   ],
   "source": [
    "vect_data1 = ngram_vectorize(SData['review'], SData['sentiment'])\n",
    "vect_data1"
   ]
  },
  {
   "cell_type": "code",
   "execution_count": 58,
   "metadata": {
    "scrolled": true
   },
   "outputs": [
    {
     "name": "stdout",
     "output_type": "stream",
     "text": [
      "  (0, 8)\t0.5199556\n",
      "  (0, 9)\t0.2599778\n",
      "  (0, 14)\t0.15615065\n",
      "  (0, 15)\t0.15615065\n",
      "  (0, 16)\t0.15615065\n",
      "  (0, 18)\t0.13576849\n",
      "  (0, 19)\t0.15615065\n",
      "  (0, 21)\t0.11995885\n",
      "  (0, 25)\t0.13576849\n",
      "  (0, 27)\t0.15615065\n",
      "  (0, 28)\t0.13576849\n",
      "  (0, 30)\t0.15615065\n",
      "  (0, 32)\t0.3123013\n",
      "  (0, 37)\t0.15615065\n",
      "  (0, 42)\t0.13576849\n",
      "  (0, 43)\t0.09611991\n",
      "  (0, 46)\t0.11995885\n",
      "  (0, 47)\t0.11995885\n",
      "  (0, 50)\t0.15615065\n",
      "  (0, 52)\t0.08665927\n",
      "  (0, 57)\t0.11995885\n",
      "  (0, 58)\t0.08665927\n",
      "  (0, 60)\t0.11995885\n",
      "  (0, 62)\t0.09611991\n",
      "  (0, 64)\t0.40730545\n",
      "  :\t:\n",
      "  (7, 25)\t0.12635632\n",
      "  (7, 33)\t0.29065096\n",
      "  (7, 35)\t0.11164268\n",
      "  (7, 43)\t0.17891277\n",
      "  (7, 45)\t0.14532548\n",
      "  (7, 46)\t0.11164268\n",
      "  (7, 47)\t0.11164268\n",
      "  (7, 52)\t0.080651596\n",
      "  (7, 53)\t0.14532548\n",
      "  (7, 54)\t0.14532548\n",
      "  (7, 57)\t0.11164268\n",
      "  (7, 58)\t0.080651596\n",
      "  (7, 60)\t0.11164268\n",
      "  (7, 62)\t0.08945639\n",
      "  (7, 63)\t0.11164268\n",
      "  (8, 8)\t0.2966548\n",
      "  (8, 9)\t0.1483274\n",
      "  (8, 17)\t0.26726997\n",
      "  (8, 28)\t0.23238353\n",
      "  (8, 31)\t0.6159705\n",
      "  (8, 34)\t0.23238353\n",
      "  (8, 38)\t0.3664277\n",
      "  (8, 42)\t0.23238353\n",
      "  (8, 44)\t0.26726997\n",
      "  (8, 69)\t0.26726997\n"
     ]
    }
   ],
   "source": [
    "print(vect_data1)\n",
    "#각각의 추출된 단어들이 tfidf로 잘변환된것을 볼 수 있다."
   ]
  },
  {
   "cell_type": "markdown",
   "metadata": {},
   "source": [
    "#### ====================================="
   ]
  },
  {
   "cell_type": "code",
   "execution_count": 63,
   "metadata": {},
   "outputs": [
    {
     "data": {
      "text/plain": [
       "(50000, 20000)"
      ]
     },
     "execution_count": 63,
     "metadata": {},
     "output_type": "execute_result"
    }
   ],
   "source": [
    "vect_data.shape"
   ]
  },
  {
   "cell_type": "code",
   "execution_count": 62,
   "metadata": {},
   "outputs": [
    {
     "data": {
      "text/plain": [
       "(50000, 68190)"
      ]
     },
     "execution_count": 62,
     "metadata": {},
     "output_type": "execute_result"
    }
   ],
   "source": [
    "tfidf = TfidfVectorizer()\n",
    "tr_texts = tfidf.fit_transform(Data['review'])\n",
    "tr_texts.shape\n",
    "###위에서 만든함수를 사용하여 tfidf변환을 했을때와 tfidf함수에 그냥 넣었을때를 비교해보면 확실하게 컬럼의 수가 줄어든것을 볼 수 있다."
   ]
  },
  {
   "cell_type": "code",
   "execution_count": 66,
   "metadata": {},
   "outputs": [],
   "source": [
    "from sklearn.model_selection import train_test_split\n",
    "\n",
    "X = vect_data.toarray()\n",
    "y = (np.array(Data['sentiment']))\n",
    "\n",
    "X_train, X_test, y_train, y_test = train_test_split(X, y, \n",
    "                                                    test_size=0.2, \n",
    "                                                    random_state=13)\n",
    "#X를 toarray로 변환하는 이유를 모르겠음 "
   ]
  },
  {
   "cell_type": "code",
   "execution_count": 67,
   "metadata": {},
   "outputs": [],
   "source": [
    "from tensorflow.python.keras import models\n",
    "from tensorflow.python.keras.layers import Dense\n",
    "from tensorflow.python.keras.layers import Dropout"
   ]
  },
  {
   "cell_type": "code",
   "execution_count": 68,
   "metadata": {},
   "outputs": [],
   "source": [
    "def get_last_layer_units_and_activation(num_classes):\n",
    "    if num_classes == 2:\n",
    "        activation = 'sigmoid'\n",
    "        units = 1\n",
    "    else:\n",
    "        activation = 'softmax'\n",
    "        units = num_classes\n",
    "    return units, activation"
   ]
  },
  {
   "cell_type": "code",
   "execution_count": 77,
   "metadata": {},
   "outputs": [],
   "source": [
    "DROPOUT_RATE = 0.2\n",
    "UNITS = 64\n",
    "NUM_CLASSES = 2\n",
    "LAYERS = 2\n",
    "input_shape = X_train.shape[1:]\n",
    "\n",
    "op_units, op_activation = get_last_layer_units_and_activation(NUM_CLASSES)\n",
    "#클래스가 2이므로 unit은 1이고 활성화함수는 sigmoid"
   ]
  },
  {
   "cell_type": "code",
   "execution_count": 102,
   "metadata": {},
   "outputs": [
    {
     "name": "stdout",
     "output_type": "stream",
     "text": [
      "Model: \"sequential_7\"\n",
      "_________________________________________________________________\n",
      "Layer (type)                 Output Shape              Param #   \n",
      "=================================================================\n",
      "dropout_14 (Dropout)         (None, 20000)             0         \n",
      "_________________________________________________________________\n",
      "dense_14 (Dense)             (None, 64)                1280064   \n",
      "_________________________________________________________________\n",
      "dropout_15 (Dropout)         (None, 64)                0         \n",
      "_________________________________________________________________\n",
      "dense_15 (Dense)             (None, 1)                 65        \n",
      "=================================================================\n",
      "Total params: 1,280,129\n",
      "Trainable params: 1,280,129\n",
      "Non-trainable params: 0\n",
      "_________________________________________________________________\n"
     ]
    }
   ],
   "source": [
    "model = keras.Sequential()\n",
    "model.add(Dropout(rate = 0.3, input_shape = input_shape))\n",
    "for _ in range(LAYERS-1):\n",
    "    model.add(Dense(units = UNITS, activation = 'relu'))\n",
    "    model.add(Dropout(rate = 0.3))\n",
    "    \n",
    "model.add(Dense(units = op_units, activation = op_activation))\n",
    "model.summary()\n"
   ]
  },
  {
   "cell_type": "code",
   "execution_count": 103,
   "metadata": {},
   "outputs": [],
   "source": [
    "LEARNING_RATE = 1e-3\n",
    "\n",
    "if NUM_CLASSES == 2:\n",
    "    loss = 'binary_crossentropy'\n",
    "else:\n",
    "    loss = 'sparse_categorical_crossentropy'\n",
    "optimizer = tf.keras.optimizers.Adam(lr=LEARNING_RATE)\n",
    "model.compile(optimizer=optimizer, loss=loss, metrics=['acc'])\n",
    "#2진분류이므로 binary_crossentropy사용 \n",
    "#sparse_categorical_crossentropy : 다중 분류 손실함수이지만 정수 값을 그대로 줄 수 있음\n",
    "#현재는 NUM_CLASSES가 2이므로 binary_crossentropy를 사용\n",
    "#이렇게 if문을 사용하면 다른 모델에 적용할때 사용할 수 있을것 같음"
   ]
  },
  {
   "cell_type": "code",
   "execution_count": 104,
   "metadata": {},
   "outputs": [
    {
     "name": "stdout",
     "output_type": "stream",
     "text": [
      "Train on 40000 samples, validate on 10000 samples\n",
      "Epoch 1/20\n",
      "40000/40000 [==============================] - 9s 236us/sample - loss: 0.4516 - acc: 0.8482 - val_loss: 0.2771 - val_acc: 0.9042\n",
      "Epoch 2/20\n",
      "40000/40000 [==============================] - 9s 225us/sample - loss: 0.2460 - acc: 0.9060 - val_loss: 0.2181 - val_acc: 0.9174\n",
      "Epoch 3/20\n",
      "40000/40000 [==============================] - 8s 194us/sample - loss: 0.2012 - acc: 0.9222 - val_loss: 0.2012 - val_acc: 0.9206\n",
      "Epoch 4/20\n",
      "40000/40000 [==============================] - 8s 202us/sample - loss: 0.1792 - acc: 0.9280 - val_loss: 0.1942 - val_acc: 0.9218\n",
      "Epoch 5/20\n",
      "40000/40000 [==============================] - 8s 207us/sample - loss: 0.1607 - acc: 0.9380 - val_loss: 0.1903 - val_acc: 0.9245\n",
      "Epoch 6/20\n",
      "40000/40000 [==============================] - 11s 279us/sample - loss: 0.1472 - acc: 0.9430 - val_loss: 0.1886 - val_acc: 0.9265\n",
      "Epoch 7/20\n",
      "40000/40000 [==============================] - 10s 243us/sample - loss: 0.1353 - acc: 0.9479 - val_loss: 0.1894 - val_acc: 0.9244\n",
      "Epoch 8/20\n",
      "40000/40000 [==============================] - 11s 284us/sample - loss: 0.1292 - acc: 0.9489 - val_loss: 0.1894 - val_acc: 0.9256\n"
     ]
    }
   ],
   "source": [
    "EPOCHS = 20\n",
    "BATCH_SIZE = 126\n",
    "\n",
    "callbacks = [tf.keras.callbacks.EarlyStopping(monitor='val_loss', \n",
    "                                              patience=2)]\n",
    "\n",
    "history = model.fit(X_train, y_train, \n",
    "                    epochs=EPOCHS, \n",
    "                    validation_data=(X_test, y_test),\n",
    "                    verbose=1, \n",
    "                    batch_size=BATCH_SIZE, \n",
    "                    callbacks=callbacks)\n",
    "#기존의 코드에서는 6번의 학습에서 early stop이 되었음\n",
    "#dropout을 다르게 지정하였을때 0.3과 0.5지정을 하였고 12번의 학습을 수행\n",
    "#dropout을 다르게 지정하였을때 0.3과 0.3지정을 하였고 8번의 학습을 수행\n",
    "#val_loss는 0.18..정도가 최대"
   ]
  },
  {
   "cell_type": "code",
   "execution_count": 107,
   "metadata": {},
   "outputs": [
    {
     "name": "stdout",
     "output_type": "stream",
     "text": [
      "10000/10000 [==============================] - 1s 66us/sample - loss: 0.1894 - acc: 0.9256\n",
      "Test loss: 0.18937663137316704\n",
      "Test accuracy: 0.9256\n"
     ]
    }
   ],
   "source": [
    "test_loss, test_acc = model.evaluate(X_test, y_test, verbose=1)\n",
    "print('Test loss:', test_loss)\n",
    "print('Test accuracy:', test_acc)\n",
    "#test loss와 test accuracy가 약 0.19, 0.93정도로 비교적 좋은 성는을 보여준다\n"
   ]
  },
  {
   "cell_type": "code",
   "execution_count": 108,
   "metadata": {},
   "outputs": [
    {
     "data": {
      "image/png": "[encoded data removed]",
      "text/plain": [
       "<Figure size 864x432 with 1 Axes>"
      ]
     },
     "metadata": {},
     "output_type": "display_data"
    },
    {
     "data": {
      "image/png": "[encoded data removed]",
      "text/plain": [
       "<Figure size 864x432 with 1 Axes>"
      ]
     },
     "metadata": {},
     "output_type": "display_data"
    }
   ],
   "source": [
    "def plot_history(history):\n",
    "    accuracy = history.history['acc']\n",
    "    val_accuracy = history.history['val_acc']\n",
    "    loss = history.history['loss']\n",
    "    val_loss = history.history['val_loss']\n",
    "    \n",
    "    epochs = range(1,len(accuracy) + 1)\n",
    "    \n",
    "    # 정확도 표시 \n",
    "    plt.figure(1)\n",
    "    plt.plot(epochs, accuracy, 'b', label='Training accuracy')\n",
    "    plt.plot(epochs, val_accuracy, 'g', label='Validation accuracy')\n",
    "    plt.title('Training and validation accuracy')\n",
    "    plt.xlabel('Epochs')\n",
    "    plt.ylabel('Accuracy')\n",
    "    plt.legend()\n",
    "    \n",
    "    # 손실율 표시\n",
    "    plt.figure(2)\n",
    "    plt.plot(epochs, loss, 'b', label='Training loss')\n",
    "    plt.plot(epochs, val_loss, 'g', label='Validation loss')\n",
    "    plt.title('Training and validation loss')\n",
    "    plt.xlabel('Epochs')\n",
    "    plt.ylabel('Loss')\n",
    "    plt.legend()\n",
    "    plt.show()\n",
    "\n",
    "plot_history(history)"
   ]
  },
  {
   "cell_type": "markdown",
   "metadata": {},
   "source": [
    "### 참조 : https://www.kaggle.com/irinaabdullaeva/imdb-reviews-with-keras"
   ]
  },
  {
   "cell_type": "code",
   "execution_count": null,
   "metadata": {},
   "outputs": [],
   "source": []
  }
 ],
 "metadata": {
  "kernelspec": {
   "display_name": "Python 3",
   "language": "python",
   "name": "python3"
  },
  "language_info": {
   "codemirror_mode": {
    "name": "ipython",
    "version": 3
   },
   "file_extension": ".py",
   "mimetype": "text/x-python",
   "name": "python",
   "nbconvert_exporter": "python",
   "pygments_lexer": "ipython3",
   "version": "3.7.4"
  }
 },
 "nbformat": 4,
 "nbformat_minor": 2
}
