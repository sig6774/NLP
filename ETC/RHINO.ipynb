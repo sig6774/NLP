{
 "cells": [
  {
   "cell_type": "code",
   "execution_count": 1,
   "metadata": {},
   "outputs": [
    {
     "name": "stdout",
     "output_type": "stream",
     "text": [
      "Collecting rhinoMorph\n",
      "\u001b[?25l  Downloading https://files.pythonhosted.org/packages/36/f8/aaf21836f3c9fb373e70056d69081523d0845bd1c90737622711951f5fdf/rhinoMorph-3.7.8.6-py3-none-any.whl (3.0MB)\n",
      "\u001b[K     |████████████████████████████████| 3.0MB 276kB/s eta 0:00:01\n",
      "\u001b[?25hInstalling collected packages: rhinoMorph\n",
      "Successfully installed rhinoMorph-3.7.8.6\n"
     ]
    }
   ],
   "source": [
    "!pip install rhinoMorph"
   ]
  },
  {
   "cell_type": "code",
   "execution_count": 2,
   "metadata": {},
   "outputs": [],
   "source": [
    "import rhinoMorph"
   ]
  },
  {
   "cell_type": "code",
   "execution_count": 3,
   "metadata": {},
   "outputs": [
    {
     "name": "stdout",
     "output_type": "stream",
     "text": [
      "filepath:  /Users/Moon/opt/anaconda3/lib/python3.7/site-packages\n",
      "classpath:  /Users/Moon/opt/anaconda3/lib/python3.7/site-packages/rhinoMorph/lib/rhino.jar\n",
      "RHINO started!\n"
     ]
    }
   ],
   "source": [
    "rn = rhinoMorph.startRhino()"
   ]
  },
  {
   "cell_type": "code",
   "execution_count": 4,
   "metadata": {},
   "outputs": [
    {
     "name": "stdout",
     "output_type": "stream",
     "text": [
      "sample data: ['한글', '테스트', '글', '을', '남기', '어', '주', '시', '어요']\n"
     ]
    }
   ],
   "source": [
    "text = '한글테스트 글을 남겨주세요'\n",
    "sample_data = rhinoMorph.onlyMorph_list(rn, text)\n",
    "print('sample data:', sample_data)"
   ]
  },
  {
   "cell_type": "code",
   "execution_count": 6,
   "metadata": {},
   "outputs": [
    {
     "name": "stdout",
     "output_type": "stream",
     "text": [
      "형태소 분석결과: ['한글', '로', '되', 'ㄴ', '한글', '텍스트', '를', '분석', '하', '는', '것', '은', '즐겁', '다', '.']\n"
     ]
    }
   ],
   "source": [
    "text = '한글로 된 한글텍스트를 분석하는 것은 즐겁다.'\n",
    "text_analyzed = rhinoMorph.onlyMorph_list(rn,text)\n",
    "print('형태소 분석결과:', text_analyzed)"
   ]
  },
  {
   "cell_type": "code",
   "execution_count": 8,
   "metadata": {},
   "outputs": [
    {
     "name": "stdout",
     "output_type": "stream",
     "text": [
      "\n",
      " 형태소 분석 결과 :\n",
      "Morphs : ['한글', '로', '되', 'ㄴ', '한글', '텍스트', '를', '분석', '하', '는', '것', '은', '즐겁', '다', '.']\n",
      "poses :  ['NNG', 'JKB', 'VV', 'ETM', 'NNG', 'NNG', 'JKO', 'XR', 'VX', 'ETM', 'NNB', 'JX', 'VA', 'EF', 'SF']\n"
     ]
    }
   ],
   "source": [
    "morphs ,poses = rhinoMorph.wholeResult_list(rn,text)\n",
    "print('\\n 형태소 분석 결과 :')\n",
    "print('Morphs :' ,morphs)\n",
    "print('poses : ', poses)"
   ]
  },
  {
   "cell_type": "code",
   "execution_count": 9,
   "metadata": {},
   "outputs": [
    {
     "name": "stdout",
     "output_type": "stream",
     "text": [
      "\n",
      " 형태소 분석 결과 : \n",
      " 한글로\t한글/NNG + 로/JKB\r\n",
      "된\t되/VV + ㄴ/ETM\r\n",
      "한글텍스트를\t한글/NNG + 텍스트/NNG + 를/JKO\r\n",
      "분석하는\t분석/XR + 하/VX + 는/ETM\r\n",
      "것은\t것/NNB + 은/JX\r\n",
      "즐겁다\t즐겁/VA + 다/EF\r\n",
      ".\t./SF\r\n",
      "\n"
     ]
    }
   ],
   "source": [
    "text_analyzed = rhinoMorph.wholeResult_text(rn,text)\n",
    "print('\\n 형태소 분석 결과 : \\n', text_analyzed)"
   ]
  },
  {
   "cell_type": "code",
   "execution_count": null,
   "metadata": {},
   "outputs": [],
   "source": []
  }
 ],
 "metadata": {
  "kernelspec": {
   "display_name": "Python 3",
   "language": "python",
   "name": "python3"
  },
  "language_info": {
   "codemirror_mode": {
    "name": "ipython",
    "version": 3
   },
   "file_extension": ".py",
   "mimetype": "text/x-python",
   "name": "python",
   "nbconvert_exporter": "python",
   "pygments_lexer": "ipython3",
   "version": "3.7.4"
  }
 },
 "nbformat": 4,
 "nbformat_minor": 2
}
