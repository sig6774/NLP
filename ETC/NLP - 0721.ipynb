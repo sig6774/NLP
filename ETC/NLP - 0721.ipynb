{
 "cells": [
  {
   "cell_type": "markdown",
   "metadata": {},
   "source": [
    "1. Embedding층을 사용했을때 \n",
    "2. 뒤의 은닉층에 Dense층을 두려면 Flatten을 해야한다, Dense는 2D를 받아서 2D를 출력 \n",
    "3. 만약 뒤에 은닉층에 RNN층을 두려면 Flatten을 하지 않는다, RNN은 3D를 받아서 2D를 출력 \n",
    "4. 어떤 shape를 input으로 받아서 어떤 shape의 output을 내놓는지가 제일 중요\n",
    "5. 원래 (200000, 200, 50)이었는데 Dense에 넣기 위해서 2D로 변경하면 (200000,10000)로 변환 \n",
    "6. Flatten을 하면 3D - > 2Df로 변화가 되어도 결과에 영향을 미치지않음\n",
    "7. Flatten은 reshape와 비슷 \n",
    "Dense : 일반신경망층 \n",
    "Dense가 아닌 다른 신경망은 특별한 신경망"
   ]
  },
  {
   "cell_type": "markdown",
   "metadata": {},
   "source": [
    "1. Keras Embedding (미리 계산된 임베딩값)(이게 점수가 잘나옴)\n",
    "2. Word2Vec (계산된 Embedding값이 나오게 됨)\n",
    "3. Word2Vec + keras Embedding' \n",
    "4. "
   ]
  }
 ],
 "metadata": {
  "kernelspec": {
   "display_name": "Python 3",
   "language": "python",
   "name": "python3"
  },
  "language_info": {
   "codemirror_mode": {
    "name": "ipython",
    "version": 3
   },
   "file_extension": ".py",
   "mimetype": "text/x-python",
   "name": "python",
   "nbconvert_exporter": "python",
   "pygments_lexer": "ipython3",
   "version": "3.7.4"
  }
 },
 "nbformat": 4,
 "nbformat_minor": 2
}
