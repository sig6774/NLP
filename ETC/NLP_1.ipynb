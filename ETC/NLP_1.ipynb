{
 "cells": [
  {
   "cell_type": "markdown",
   "metadata": {
    "colab_type": "text",
    "id": "19y_LJKGAQ_t"
   },
   "source": [
    "Test Code"
   ]
  },
  {
   "cell_type": "code",
   "execution_count": 23,
   "metadata": {
    "colab": {},
    "colab_type": "code",
    "id": "MxQiafxhAjAO"
   },
   "outputs": [],
   "source": [
    "from google.colab import auth\n",
    "auth.authenticate_user()\n",
    "#구글 드라이브와 연결(생략가능 )"
   ]
  },
  {
   "cell_type": "code",
   "execution_count": 24,
   "metadata": {
    "colab": {
     "base_uri": "https://localhost:8080/",
     "height": 34
    },
    "colab_type": "code",
    "id": "29F-eBsQI6s2",
    "outputId": "1816ad7a-08d9-4a45-b5c6-0886d31c641e"
   },
   "outputs": [
    {
     "name": "stdout",
     "output_type": "stream",
     "text": [
      "Drive already mounted at /content/gdrive/; to attempt to forcibly remount, call drive.mount(\"/content/gdrive/\", force_remount=True).\n"
     ]
    }
   ],
   "source": [
    "from google.colab import drive\n",
    "drive.mount('/content/gdrive/')\n",
    "#구글 드라이브와 연결 인증 (이거는 필수적으로 사용)\n",
    "#하이퍼링크를 따라가면 코드가 나오는데 그 코드를 적으면 된다 \n",
    "#링크의 주소를 따라가면 code를 얻을 수 있다\n",
    "#code를 복사하여 아래의 박스에 입력하고 enter\n",
    "#verification과 authorization 각각 수행 "
   ]
  },
  {
   "cell_type": "code",
   "execution_count": 25,
   "metadata": {
    "colab": {
     "base_uri": "https://localhost:8080/",
     "height": 34
    },
    "colab_type": "code",
    "id": "1Au7s8ZuJGQd",
    "outputId": "c4b0df91-f78f-49ee-bf73-915cb05ee609"
   },
   "outputs": [
    {
     "name": "stdout",
     "output_type": "stream",
     "text": [
      "/bin/bash: ls/content/gdrive/My Drive/: No such file or directory\n"
     ]
    }
   ],
   "source": [
    "!ls\"/content/gdrive/My Drive/\"\n",
    "#위의 코드를 통해 현재 폴더에 있는 것들을 보여준다\n",
    "#목록을 볼 수 있다"
   ]
  },
  {
   "cell_type": "code",
   "execution_count": 26,
   "metadata": {
    "colab": {
     "base_uri": "https://localhost:8080/",
     "height": 204
    },
    "colab_type": "code",
    "id": "tvYHOscvKMHO",
    "outputId": "c64ce764-1fd2-4748-8ea6-0d3aa4ece933"
   },
   "outputs": [
    {
     "data": {
      "text/html": [
       "<div>\n",
       "<style scoped>\n",
       "    .dataframe tbody tr th:only-of-type {\n",
       "        vertical-align: middle;\n",
       "    }\n",
       "\n",
       "    .dataframe tbody tr th {\n",
       "        vertical-align: top;\n",
       "    }\n",
       "\n",
       "    .dataframe thead th {\n",
       "        text-align: right;\n",
       "    }\n",
       "</style>\n",
       "<table border=\"1\" class=\"dataframe\">\n",
       "  <thead>\n",
       "    <tr style=\"text-align: right;\">\n",
       "      <th></th>\n",
       "      <th>item</th>\n",
       "      <th>price</th>\n",
       "      <th>sales</th>\n",
       "    </tr>\n",
       "  </thead>\n",
       "  <tbody>\n",
       "    <tr>\n",
       "      <th>0</th>\n",
       "      <td>풍선</td>\n",
       "      <td>100</td>\n",
       "      <td>200</td>\n",
       "    </tr>\n",
       "    <tr>\n",
       "      <th>1</th>\n",
       "      <td>펌프</td>\n",
       "      <td>3000</td>\n",
       "      <td>5</td>\n",
       "    </tr>\n",
       "    <tr>\n",
       "      <th>2</th>\n",
       "      <td>테이프</td>\n",
       "      <td>300</td>\n",
       "      <td>20</td>\n",
       "    </tr>\n",
       "    <tr>\n",
       "      <th>3</th>\n",
       "      <td>플랭카드</td>\n",
       "      <td>20000</td>\n",
       "      <td>1</td>\n",
       "    </tr>\n",
       "    <tr>\n",
       "      <th>4</th>\n",
       "      <td>색종이</td>\n",
       "      <td>150</td>\n",
       "      <td>100</td>\n",
       "    </tr>\n",
       "  </tbody>\n",
       "</table>\n",
       "</div>"
      ],
      "text/plain": [
       "   item  price  sales\n",
       "0    풍선    100    200\n",
       "1    펌프   3000      5\n",
       "2   테이프    300     20\n",
       "3  플랭카드  20000      1\n",
       "4   색종이    150    100"
      ]
     },
     "execution_count": 26,
     "metadata": {
      "tags": []
     },
     "output_type": "execute_result"
    }
   ],
   "source": [
    "import pandas as pd\n",
    "df = pd.read_csv('/content/gdrive/My Drive/pytest/test.csv', encoding = 'cp949')\n",
    "df\n",
    "#encoding : 텍스트의 내용을 특정 코드에 맞춰 저장을 하기 때문에 특정 코드에 맞도록 해석하기 위한것 \n",
    "#cp949인지 확인 법 : 메모장으로 열고 파일 다른이름으로 저장에서 인코딩 형식을 볼 수 있음"
   ]
  },
  {
   "cell_type": "code",
   "execution_count": 27,
   "metadata": {
    "colab": {
     "base_uri": "https://localhost:8080/",
     "height": 51
    },
    "colab_type": "code",
    "id": "xn23PIrELhBP",
    "outputId": "0cb3812d-21ca-458f-9f06-42a90e24f6a5",
    "scrolled": true
   },
   "outputs": [
    {
     "name": "stdout",
     "output_type": "stream",
     "text": [
      "Requirement already satisfied: chardet in /usr/local/lib/python3.6/dist-packages (3.0.4)\n",
      "EUC-KR\n"
     ]
    }
   ],
   "source": [
    "#해당 파일의 인코딩을 확인할 수 있는 패키지 : chardet\n",
    "!pip install chardet\n",
    "import chardet\n",
    "file = open(\"/content/gdrive/My Drive/pytest/test.csv\", 'rb').read()\n",
    "result = chardet.detect(file)\n",
    "print(result['encoding'])"
   ]
  },
  {
   "cell_type": "code",
   "execution_count": 1,
   "metadata": {},
   "outputs": [
    {
     "name": "stdout",
     "output_type": "stream",
     "text": [
      "/bin/sh: apt-get: command not found\r\n"
     ]
    }
   ],
   "source": [
    "!apt-get update"
   ]
  },
  {
   "cell_type": "code",
   "execution_count": 28,
   "metadata": {
    "colab": {
     "base_uri": "https://localhost:8080/",
     "height": 1000
    },
    "colab_type": "code",
    "id": "hIHLs8UvOiKI",
    "outputId": "a15eee70-2cdb-4159-ef30-a73c422e4d14"
   },
   "outputs": [
    {
     "name": "stdout",
     "output_type": "stream",
     "text": [
      "\r",
      "0% [Working]\r",
      "            \r",
      "Get:1 http://security.ubuntu.com/ubuntu bionic-security InRelease [88.7 kB]\n",
      "\r",
      "0% [Waiting for headers] [1 InRelease 9,828 B/88.7 kB 11%] [Waiting for headers\r",
      "                                                                               \r",
      "Get:2 https://cloud.r-project.org/bin/linux/ubuntu bionic-cran35/ InRelease [3,626 B]\n",
      "\r",
      "0% [Waiting for headers] [1 InRelease 14.2 kB/88.7 kB 16%] [2 InRelease 3,626 B\r",
      "0% [Waiting for headers] [1 InRelease 43.1 kB/88.7 kB 49%] [Waiting for headers\r",
      "                                                                               \r",
      "Ign:3 https://developer.download.nvidia.com/compute/cuda/repos/ubuntu1804/x86_64  InRelease\n",
      "\r",
      "0% [Waiting for headers] [1 InRelease 43.1 kB/88.7 kB 49%] [Waiting for headers\r",
      "0% [2 InRelease gpgv 3,626 B] [Waiting for headers] [1 InRelease 43.1 kB/88.7 k\r",
      "                                                                               \r",
      "Hit:4 http://archive.ubuntu.com/ubuntu bionic InRelease\n",
      "\r",
      "                                                                               \r",
      "Hit:5 http://ppa.launchpad.net/graphics-drivers/ppa/ubuntu bionic InRelease\n",
      "\r",
      "0% [2 InRelease gpgv 3,626 B] [Waiting for headers] [1 InRelease 43.1 kB/88.7 k\r",
      "0% [2 InRelease gpgv 3,626 B] [Waiting for headers] [Waiting for headers] [Conn\r",
      "                                                                               \r",
      "Ign:6 https://developer.download.nvidia.com/compute/machine-learning/repos/ubuntu1804/x86_64  InRelease\n",
      "\r",
      "0% [2 InRelease gpgv 3,626 B] [Waiting for headers] [Connecting to ppa.launchpa\r",
      "                                                                               \r",
      "Get:7 https://developer.download.nvidia.com/compute/cuda/repos/ubuntu1804/x86_64  Release [697 B]\n",
      "\r",
      "0% [2 InRelease gpgv 3,626 B] [Waiting for headers] [7 Release 697 B/697 B 100%\r",
      "0% [2 InRelease gpgv 3,626 B] [Waiting for headers] [Connecting to ppa.launchpa\r",
      "                                                                               \r",
      "Get:8 https://developer.download.nvidia.com/compute/machine-learning/repos/ubuntu1804/x86_64  Release [564 B]\n",
      "\r",
      "0% [2 InRelease gpgv 3,626 B] [Waiting for headers] [8 Release 564 B/564 B 100%\r",
      "0% [2 InRelease gpgv 3,626 B] [Waiting for headers] [Connecting to ppa.launchpa\r",
      "                                                                               \r",
      "Get:9 http://archive.ubuntu.com/ubuntu bionic-updates InRelease [88.7 kB]\n",
      "\r",
      "0% [2 InRelease gpgv 3,626 B] [9 InRelease 2,604 B/88.7 kB 3%] [Waiting for hea\r",
      "                                                                               \r",
      "Get:10 https://developer.download.nvidia.com/compute/cuda/repos/ubuntu1804/x86_64  Release.gpg [836 B]\n",
      "\r",
      "0% [2 InRelease gpgv 3,626 B] [9 InRelease 14.2 kB/88.7 kB 16%] [10 Release.gpg\r",
      "0% [2 InRelease gpgv 3,626 B] [9 InRelease 14.2 kB/88.7 kB 16%] [Waiting for he\r",
      "                                                                               \r",
      "Get:11 https://developer.download.nvidia.com/compute/machine-learning/repos/ubuntu1804/x86_64  Release.gpg [833 B]\n",
      "\r",
      "0% [2 InRelease gpgv 3,626 B] [9 InRelease 15.6 kB/88.7 kB 18%] [11 Release.gpg\r",
      "0% [2 InRelease gpgv 3,626 B] [9 InRelease 15.6 kB/88.7 kB 18%] [Waiting for he\r",
      "                                                                               \r",
      "Get:12 http://ppa.launchpad.net/marutter/c2d4u3.5/ubuntu bionic InRelease [15.4 kB]\n",
      "\r",
      "0% [2 InRelease gpgv 3,626 B] [9 InRelease 44.6 kB/88.7 kB 50%] [12 InRelease 1\r",
      "                                                                               \r",
      "0% [2 InRelease gpgv 3,626 B] [9 InRelease 44.6 kB/88.7 kB 50%]\r",
      "                                                               \r",
      "0% [9 InRelease 47.5 kB/88.7 kB 54%]\r",
      "0% [4 InRelease gpgv 242 kB] [9 InRelease 47.5 kB/88.7 kB 54%] [Waiting for hea\r",
      "                                                                               \r",
      "0% [4 InRelease gpgv 242 kB] [Waiting for headers] [Waiting for headers]\r",
      "                                                                        \r",
      "Get:13 https://cloud.r-project.org/bin/linux/ubuntu bionic-cran35/ Packages [93.7 kB]\n",
      "Get:14 http://archive.ubuntu.com/ubuntu bionic-backports InRelease [74.6 kB]\n",
      "Get:15 http://security.ubuntu.com/ubuntu bionic-security/multiverse amd64 Packages [9,282 B]\n",
      "Get:16 http://security.ubuntu.com/ubuntu bionic-security/restricted amd64 Packages [89.0 kB]\n",
      "Get:17 http://security.ubuntu.com/ubuntu bionic-security/universe amd64 Packages [869 kB]\n",
      "Get:18 http://security.ubuntu.com/ubuntu bionic-security/main amd64 Packages [1,003 kB]\n",
      "Ign:19 https://developer.download.nvidia.com/compute/cuda/repos/ubuntu1804/x86_64  Packages\n",
      "Get:19 https://developer.download.nvidia.com/compute/cuda/repos/ubuntu1804/x86_64  Packages [214 kB]\n",
      "Get:20 https://developer.download.nvidia.com/compute/machine-learning/repos/ubuntu1804/x86_64  Packages [41.2 kB]\n",
      "Get:21 http://ppa.launchpad.net/marutter/c2d4u3.5/ubuntu bionic/main Sources [1,845 kB]\n",
      "Get:22 http://archive.ubuntu.com/ubuntu bionic-updates/universe amd64 Packages [1,405 kB]\n",
      "Get:23 http://archive.ubuntu.com/ubuntu bionic-updates/main amd64 Packages [1,302 kB]\n",
      "Get:24 http://archive.ubuntu.com/ubuntu bionic-updates/multiverse amd64 Packages [13.6 kB]\n",
      "Get:25 http://archive.ubuntu.com/ubuntu bionic-updates/restricted amd64 Packages [102 kB]\n",
      "Get:26 http://ppa.launchpad.net/marutter/c2d4u3.5/ubuntu bionic/main amd64 Packages [890 kB]\n",
      "Fetched 8,151 kB in 3s (2,474 kB/s)\n",
      "Reading package lists... Done\n",
      "Reading package lists... Done\n",
      "Building dependency tree       \n",
      "Reading state information... Done\n",
      "g++ is already the newest version (4:7.4.0-1ubuntu2.3).\n",
      "g++ set to manually installed.\n",
      "The following package was automatically installed and is no longer required:\n",
      "  libnvidia-common-440\n",
      "Use 'apt autoremove' to remove it.\n",
      "The following additional packages will be installed:\n",
      "  fonts-dejavu-core fonts-dejavu-extra libatk-wrapper-java\n",
      "  libatk-wrapper-java-jni libxxf86dga1 openjdk-8-jdk-headless openjdk-8-jre\n",
      "  openjdk-8-jre-headless x11-utils\n",
      "Suggested packages:\n",
      "  openjdk-8-demo openjdk-8-source visualvm icedtea-8-plugin libnss-mdns\n",
      "  fonts-ipafont-gothic fonts-ipafont-mincho fonts-wqy-microhei\n",
      "  fonts-wqy-zenhei fonts-indic mesa-utils\n",
      "The following NEW packages will be installed:\n",
      "  fonts-dejavu-core fonts-dejavu-extra libatk-wrapper-java\n",
      "  libatk-wrapper-java-jni libxxf86dga1 openjdk-8-jdk openjdk-8-jdk-headless\n",
      "  openjdk-8-jre openjdk-8-jre-headless x11-utils\n",
      "0 upgraded, 10 newly installed, 0 to remove and 78 not upgraded.\n",
      "Need to get 40.7 MB of archives.\n",
      "After this operation, 153 MB of additional disk space will be used.\n",
      "Get:1 http://archive.ubuntu.com/ubuntu bionic/main amd64 libxxf86dga1 amd64 2:1.1.4-1 [13.7 kB]\n",
      "Get:2 http://archive.ubuntu.com/ubuntu bionic/main amd64 fonts-dejavu-core all 2.37-1 [1,041 kB]\n",
      "Get:3 http://archive.ubuntu.com/ubuntu bionic/main amd64 fonts-dejavu-extra all 2.37-1 [1,953 kB]\n",
      "Get:4 http://archive.ubuntu.com/ubuntu bionic/main amd64 x11-utils amd64 7.7+3build1 [196 kB]\n",
      "Get:5 http://archive.ubuntu.com/ubuntu bionic/main amd64 libatk-wrapper-java all 0.33.3-20ubuntu0.1 [34.7 kB]\n",
      "Get:6 http://archive.ubuntu.com/ubuntu bionic/main amd64 libatk-wrapper-java-jni amd64 0.33.3-20ubuntu0.1 [28.3 kB]\n",
      "Get:7 http://archive.ubuntu.com/ubuntu bionic-updates/universe amd64 openjdk-8-jre-headless amd64 8u252-b09-1~18.04 [27.5 MB]\n",
      "Get:8 http://archive.ubuntu.com/ubuntu bionic-updates/universe amd64 openjdk-8-jre amd64 8u252-b09-1~18.04 [69.8 kB]\n",
      "Get:9 http://archive.ubuntu.com/ubuntu bionic-updates/universe amd64 openjdk-8-jdk-headless amd64 8u252-b09-1~18.04 [8,250 kB]\n",
      "Get:10 http://archive.ubuntu.com/ubuntu bionic-updates/universe amd64 openjdk-8-jdk amd64 8u252-b09-1~18.04 [1,622 kB]\n",
      "Fetched 40.7 MB in 2s (20.6 MB/s)\n",
      "Selecting previously unselected package libxxf86dga1:amd64.\n",
      "(Reading database ... 144379 files and directories currently installed.)\n",
      "Preparing to unpack .../0-libxxf86dga1_2%3a1.1.4-1_amd64.deb ...\n",
      "Unpacking libxxf86dga1:amd64 (2:1.1.4-1) ...\n",
      "Selecting previously unselected package fonts-dejavu-core.\n",
      "Preparing to unpack .../1-fonts-dejavu-core_2.37-1_all.deb ...\n",
      "Unpacking fonts-dejavu-core (2.37-1) ...\n",
      "Selecting previously unselected package fonts-dejavu-extra.\n",
      "Preparing to unpack .../2-fonts-dejavu-extra_2.37-1_all.deb ...\n",
      "Unpacking fonts-dejavu-extra (2.37-1) ...\n",
      "Selecting previously unselected package x11-utils.\n",
      "Preparing to unpack .../3-x11-utils_7.7+3build1_amd64.deb ...\n",
      "Unpacking x11-utils (7.7+3build1) ...\n",
      "Selecting previously unselected package libatk-wrapper-java.\n",
      "Preparing to unpack .../4-libatk-wrapper-java_0.33.3-20ubuntu0.1_all.deb ...\n",
      "Unpacking libatk-wrapper-java (0.33.3-20ubuntu0.1) ...\n",
      "Selecting previously unselected package libatk-wrapper-java-jni:amd64.\n",
      "Preparing to unpack .../5-libatk-wrapper-java-jni_0.33.3-20ubuntu0.1_amd64.deb ...\n",
      "Unpacking libatk-wrapper-java-jni:amd64 (0.33.3-20ubuntu0.1) ...\n",
      "Selecting previously unselected package openjdk-8-jre-headless:amd64.\n",
      "Preparing to unpack .../6-openjdk-8-jre-headless_8u252-b09-1~18.04_amd64.deb ...\n",
      "Unpacking openjdk-8-jre-headless:amd64 (8u252-b09-1~18.04) ...\n",
      "Selecting previously unselected package openjdk-8-jre:amd64.\n",
      "Preparing to unpack .../7-openjdk-8-jre_8u252-b09-1~18.04_amd64.deb ...\n",
      "Unpacking openjdk-8-jre:amd64 (8u252-b09-1~18.04) ...\n",
      "Selecting previously unselected package openjdk-8-jdk-headless:amd64.\n",
      "Preparing to unpack .../8-openjdk-8-jdk-headless_8u252-b09-1~18.04_amd64.deb ...\n",
      "Unpacking openjdk-8-jdk-headless:amd64 (8u252-b09-1~18.04) ...\n",
      "Selecting previously unselected package openjdk-8-jdk:amd64.\n",
      "Preparing to unpack .../9-openjdk-8-jdk_8u252-b09-1~18.04_amd64.deb ...\n",
      "Unpacking openjdk-8-jdk:amd64 (8u252-b09-1~18.04) ...\n",
      "Setting up fonts-dejavu-core (2.37-1) ...\n",
      "Setting up libxxf86dga1:amd64 (2:1.1.4-1) ...\n",
      "Setting up fonts-dejavu-extra (2.37-1) ...\n",
      "Setting up openjdk-8-jre-headless:amd64 (8u252-b09-1~18.04) ...\n",
      "update-alternatives: using /usr/lib/jvm/java-8-openjdk-amd64/jre/bin/orbd to provide /usr/bin/orbd (orbd) in auto mode\n",
      "update-alternatives: using /usr/lib/jvm/java-8-openjdk-amd64/jre/bin/servertool to provide /usr/bin/servertool (servertool) in auto mode\n",
      "update-alternatives: using /usr/lib/jvm/java-8-openjdk-amd64/jre/bin/tnameserv to provide /usr/bin/tnameserv (tnameserv) in auto mode\n",
      "Setting up openjdk-8-jdk-headless:amd64 (8u252-b09-1~18.04) ...\n",
      "update-alternatives: using /usr/lib/jvm/java-8-openjdk-amd64/bin/idlj to provide /usr/bin/idlj (idlj) in auto mode\n",
      "update-alternatives: using /usr/lib/jvm/java-8-openjdk-amd64/bin/wsimport to provide /usr/bin/wsimport (wsimport) in auto mode\n",
      "update-alternatives: using /usr/lib/jvm/java-8-openjdk-amd64/bin/jsadebugd to provide /usr/bin/jsadebugd (jsadebugd) in auto mode\n",
      "update-alternatives: using /usr/lib/jvm/java-8-openjdk-amd64/bin/native2ascii to provide /usr/bin/native2ascii (native2ascii) in auto mode\n",
      "update-alternatives: using /usr/lib/jvm/java-8-openjdk-amd64/bin/javah to provide /usr/bin/javah (javah) in auto mode\n",
      "update-alternatives: using /usr/lib/jvm/java-8-openjdk-amd64/bin/clhsdb to provide /usr/bin/clhsdb (clhsdb) in auto mode\n",
      "update-alternatives: using /usr/lib/jvm/java-8-openjdk-amd64/bin/extcheck to provide /usr/bin/extcheck (extcheck) in auto mode\n",
      "update-alternatives: using /usr/lib/jvm/java-8-openjdk-amd64/bin/hsdb to provide /usr/bin/hsdb (hsdb) in auto mode\n",
      "update-alternatives: using /usr/lib/jvm/java-8-openjdk-amd64/bin/schemagen to provide /usr/bin/schemagen (schemagen) in auto mode\n",
      "update-alternatives: using /usr/lib/jvm/java-8-openjdk-amd64/bin/xjc to provide /usr/bin/xjc (xjc) in auto mode\n",
      "update-alternatives: using /usr/lib/jvm/java-8-openjdk-amd64/bin/jhat to provide /usr/bin/jhat (jhat) in auto mode\n",
      "update-alternatives: using /usr/lib/jvm/java-8-openjdk-amd64/bin/wsgen to provide /usr/bin/wsgen (wsgen) in auto mode\n",
      "Setting up x11-utils (7.7+3build1) ...\n",
      "Setting up libatk-wrapper-java (0.33.3-20ubuntu0.1) ...\n",
      "Setting up libatk-wrapper-java-jni:amd64 (0.33.3-20ubuntu0.1) ...\n",
      "Setting up openjdk-8-jre:amd64 (8u252-b09-1~18.04) ...\n",
      "update-alternatives: using /usr/lib/jvm/java-8-openjdk-amd64/jre/bin/policytool to provide /usr/bin/policytool (policytool) in auto mode\n",
      "Setting up openjdk-8-jdk:amd64 (8u252-b09-1~18.04) ...\n",
      "update-alternatives: using /usr/lib/jvm/java-8-openjdk-amd64/bin/appletviewer to provide /usr/bin/appletviewer (appletviewer) in auto mode\n",
      "update-alternatives: using /usr/lib/jvm/java-8-openjdk-amd64/bin/jconsole to provide /usr/bin/jconsole (jconsole) in auto mode\n",
      "Processing triggers for man-db (2.8.3-2ubuntu0.1) ...\n",
      "Processing triggers for hicolor-icon-theme (0.17-2) ...\n",
      "Processing triggers for fontconfig (2.12.6-0ubuntu2) ...\n",
      "Processing triggers for mime-support (3.60ubuntu1) ...\n",
      "Processing triggers for libc-bin (2.27-3ubuntu1) ...\n",
      "/sbin/ldconfig.real: /usr/local/lib/python3.6/dist-packages/ideep4py/lib/libmkldnn.so.0 is not a symbolic link\n",
      "\n"
     ]
    }
   ],
   "source": [
    "!apt-get update\n",
    "!apt-get install g++ openjdk-8-jdk"
   ]
  },
  {
   "cell_type": "code",
   "execution_count": 31,
   "metadata": {
    "colab": {
     "base_uri": "https://localhost:8080/",
     "height": 122
    },
    "colab_type": "code",
    "id": "u_PlQajYgdqi",
    "outputId": "3c079ee5-cd2e-4f78-a143-ceedcd910cae"
   },
   "outputs": [
    {
     "name": "stdout",
     "output_type": "stream",
     "text": [
      "Collecting JPype1==0.7.5\n",
      "\u001b[?25l  Downloading https://files.pythonhosted.org/packages/2d/9b/e115101a833605b3c0e6f3a2bc1f285c95aaa1d93ab808314ca1bde63eed/JPype1-0.7.5-cp36-cp36m-manylinux2010_x86_64.whl (3.6MB)\n",
      "\u001b[K     |████████████████████████████████| 3.6MB 2.9MB/s \n",
      "\u001b[?25hInstalling collected packages: JPype1\n",
      "Successfully installed JPype1-0.7.5\n"
     ]
    }
   ],
   "source": [
    "!pip install JPype1==0.7.5"
   ]
  },
  {
   "cell_type": "code",
   "execution_count": 32,
   "metadata": {
    "colab": {
     "base_uri": "https://localhost:8080/",
     "height": 122
    },
    "colab_type": "code",
    "id": "UHbbewn8gn2g",
    "outputId": "f1b9209f-b66b-4a86-aefa-2bc45cc16a46"
   },
   "outputs": [
    {
     "name": "stdout",
     "output_type": "stream",
     "text": [
      "Collecting rhinoMorph\n",
      "\u001b[?25l  Downloading https://files.pythonhosted.org/packages/36/f8/aaf21836f3c9fb373e70056d69081523d0845bd1c90737622711951f5fdf/rhinoMorph-3.7.8.6-py3-none-any.whl (3.0MB)\n",
      "\u001b[K     |████████████████████████████████| 3.0MB 2.9MB/s \n",
      "\u001b[?25hInstalling collected packages: rhinoMorph\n",
      "Successfully installed rhinoMorph-3.7.8.6\n"
     ]
    }
   ],
   "source": [
    "!pip install rhinoMorph"
   ]
  },
  {
   "cell_type": "code",
   "execution_count": 33,
   "metadata": {
    "colab": {
     "base_uri": "https://localhost:8080/",
     "height": 68
    },
    "colab_type": "code",
    "id": "r5AVC3JYg4i8",
    "outputId": "18b220a6-902f-4a3a-e956-5b63dfc3598a",
    "scrolled": true
   },
   "outputs": [
    {
     "name": "stdout",
     "output_type": "stream",
     "text": [
      "filepath:  /usr/local/lib/python3.6/dist-packages\n",
      "classpath:  /usr/local/lib/python3.6/dist-packages/rhinoMorph/lib/rhino.jar\n",
      "RHINO started!\n"
     ]
    }
   ],
   "source": [
    "import rhinoMorph\n",
    "rn = rhinoMorph.startRhino()"
   ]
  },
  {
   "cell_type": "code",
   "execution_count": 35,
   "metadata": {
    "colab": {
     "base_uri": "https://localhost:8080/",
     "height": 34
    },
    "colab_type": "code",
    "id": "GD96fJdyg_a8",
    "outputId": "0294325d-6f42-405f-843b-81cd24661968"
   },
   "outputs": [
    {
     "name": "stdout",
     "output_type": "stream",
     "text": [
      "/n1. 형태소 분석 결과 : ['한글', '테스트', '글', '을', '남기', '어', '주', '시', '어요']\n"
     ]
    }
   ],
   "source": [
    "#테스트\n",
    "text = '한글테스트 글을 남겨주세요'\n",
    "text_analyzed = rhinoMorph.onlyMorph_list(rn,text)\n",
    "print('/n1. 형태소 분석 결과 :', text_analyzed)\n",
    "\n",
    "#모든 형태소를 리스트형식으로 출력 "
   ]
  },
  {
   "cell_type": "code",
   "execution_count": 36,
   "metadata": {
    "colab": {
     "base_uri": "https://localhost:8080/",
     "height": 119
    },
    "colab_type": "code",
    "id": "qN759ojdkIbB",
    "outputId": "c8fa2fce-e6a1-44fe-d163-b2891f1cec85"
   },
   "outputs": [
    {
     "name": "stdout",
     "output_type": "stream",
     "text": [
      "filepath:  /usr/local/lib/python3.6/dist-packages\n",
      "classpath:  /usr/local/lib/python3.6/dist-packages/rhinoMorph/lib/rhino.jar\n",
      "JVM is already started~\n",
      "RHINO started!\n",
      "\n",
      "1. 형태소 분석 결과: ['한글', '로', '되', 'ㄴ', '한글', '텍스트', '를', '분석', '하', '는', '것', '은', '즐겁', '다', '.']\n"
     ]
    }
   ],
   "source": [
    "# 사용 1 \n",
    "rn = rhinoMorph.startRhino()\n",
    "text = '한글로 된 한글텍스트를 분석하는 것은 즐겁다.'\n",
    "\n",
    "text_analyzed = rhinoMorph.onlyMorph_list(rn,text)\n",
    "print('\\n1. 형태소 분석 결과:', text_analyzed)\n",
    "#가장 기본적인 형태소 분석 방법"
   ]
  },
  {
   "cell_type": "code",
   "execution_count": 37,
   "metadata": {
    "colab": {
     "base_uri": "https://localhost:8080/",
     "height": 51
    },
    "colab_type": "code",
    "id": "c6Ou-iokhYMN",
    "outputId": "63d30b4f-afbd-4a4e-c1e6-2656008dcfde"
   },
   "outputs": [
    {
     "name": "stdout",
     "output_type": "stream",
     "text": [
      "\n",
      "2. 형태소 분석 결과 : ['한글', '되', '한글', '텍스트', '분석', '즐겁']\n"
     ]
    }
   ],
   "source": [
    "# 사용 2\n",
    "text_analyzed = rhinoMorph.onlyMorph_list(rn,text, pos = ['NNG', 'NNP', 'NP', \"VV\", 'VA', 'XR', 'IC', 'MM', 'MAG', 'MAJ'])\n",
    "print('\\n2. 형태소 분석 결과 :', text_analyzed)"
   ]
  },
  {
   "cell_type": "code",
   "execution_count": 40,
   "metadata": {
    "colab": {
     "base_uri": "https://localhost:8080/",
     "height": 51
    },
    "colab_type": "code",
    "id": "kTvQuCfblcSe",
    "outputId": "659c2865-4d87-43e0-b9a5-624b99571cc3"
   },
   "outputs": [
    {
     "name": "stdout",
     "output_type": "stream",
     "text": [
      "\n",
      "3. 형태소 분석 결과 : ['한글', '되다', '한글', '텍스트', '분석', '즐겁다']\n"
     ]
    }
   ],
   "source": [
    "# 사용 3\n",
    "text_analyzed = rhinoMorph.onlyMorph_list(rn,text, pos = ['NNG', 'NNP', 'NP', \"VV\", 'VA', 'XR', 'IC', 'MM', 'MAG', 'MAJ'],\n",
    "                                          eomi = True)\n",
    "print('\\n3. 형태소 분석 결과 :', text_analyzed)\n",
    "#pos : 일반적인 실질형태소이므로 위의 코드를 그냥 쓰는게 가장 좋다 \n",
    "#eomi : 동사나 형용사에 '다'를 붙여줘서 출력결과를 자연스럽게 보여준다 "
   ]
  },
  {
   "cell_type": "code",
   "execution_count": 41,
   "metadata": {
    "colab": {
     "base_uri": "https://localhost:8080/",
     "height": 85
    },
    "colab_type": "code",
    "id": "YcO8M9v5llLY",
    "outputId": "4f6e590e-6da9-449d-ac04-8dccb03c1346"
   },
   "outputs": [
    {
     "name": "stdout",
     "output_type": "stream",
     "text": [
      "\n",
      "4. 형태소 분석 결과:\n",
      "morphs : ['한글', '로', '되', 'ㄴ', '한글', '텍스트', '를', '분석', '하', '는', '것', '은', '즐겁', '다', '.']\n",
      "poses : ['NNG', 'JKB', 'VV', 'ETM', 'NNG', 'NNG', 'JKO', 'XR', 'VX', 'ETM', 'NNB', 'JX', 'VA', 'EF', 'SF']\n"
     ]
    }
   ],
   "source": [
    "# 사용 4\n",
    "morphs, poses = rhinoMorph.wholeResult_list(rn,text)\n",
    "print('\\n4. 형태소 분석 결과:')\n",
    "print('morphs :', morphs)\n",
    "print('poses :', poses)\n"
   ]
  },
  {
   "cell_type": "code",
   "execution_count": 45,
   "metadata": {
    "colab": {
     "base_uri": "https://localhost:8080/",
     "height": 187
    },
    "colab_type": "code",
    "id": "uBzOMUe1mJ8_",
    "outputId": "ec04cf27-126d-4686-8e15-d9aa04030170"
   },
   "outputs": [
    {
     "name": "stdout",
     "output_type": "stream",
     "text": [
      "\n",
      "5. 형태소 분석 결과 : \n",
      " 한글로\t한글/NNG + 로/JKB\r\n",
      "된\t되/VV + ㄴ/ETM\r\n",
      "한글텍스트를\t한글/NNG + 텍스트/NNG + 를/JKO\r\n",
      "분석하는\t분석/XR + 하/VX + 는/ETM\r\n",
      "것은\t것/NNB + 은/JX\r\n",
      "즐겁다\t즐겁/VA + 다/EF\r\n",
      ".\t./SF\r\n",
      "\n"
     ]
    }
   ],
   "source": [
    "# 사용 5\n",
    "text_analyzed = rhinoMorph.wholeResult_text(rn,text)\n",
    "print('\\n5. 형태소 분석 결과 : \\n' , text_analyzed)\n",
    "#wholeResult_text : 품사의 결과와 분리된 형태소를  한번에 보여준다 "
   ]
  },
  {
   "cell_type": "code",
   "execution_count": 46,
   "metadata": {
    "colab": {
     "base_uri": "https://localhost:8080/",
     "height": 119
    },
    "colab_type": "code",
    "id": "ZBELs0D7muPG",
    "outputId": "f5790612-9bda-419c-9b6d-2d3f4b31c724"
   },
   "outputs": [
    {
     "name": "stdout",
     "output_type": "stream",
     "text": [
      "\n",
      "6. 형태소 분석 결과: ['한글', '되', '한글텍스트', '분석', '즐겁']\n",
      "\n",
      "7.  형태소 분석 결과 : \n",
      "morphs : ['한글', '로', '되', 'ㄴ', '한글텍스트', '를', '분석', '하', '는', '것', '은', '즐겁', '다', '.']\n",
      "poses :  ['NNG', 'JKB', 'VV', 'ETM', 'NNG', 'JKO', 'XR', 'VX', 'ETM', 'NNB', 'JX', 'VA', 'EF', 'SF']\n"
     ]
    }
   ],
   "source": [
    "# 사용 6, 사용 7\n",
    "text_analyzed = rhinoMorph.onlyMorph_list(rn, text, pos = ['NNG', 'NNP', 'NP', \"VV\", 'VA', 'XR', 'IC', 'MM', 'MAG', 'MAJ'],\n",
    "                                          combineN = True)\n",
    "print( '\\n6. 형태소 분석 결과:' , text_analyzed)\n",
    "\n",
    "morphs, poses = rhinoMorph.wholeResult_list(rn, text, combineN = True)\n",
    "print( '\\n7.  형태소 분석 결과 : ')\n",
    "print('morphs :', morphs)\n",
    "print('poses : ', poses)\n",
    "#combineN : 명사와 명사가 붙어있을때 붙어있는 그대로 분석을 하게 되면 유리할 때가 존재하므로 명사와 명사가 붙어 있는 경우에 사용 "
   ]
  },
  {
   "cell_type": "code",
   "execution_count": 48,
   "metadata": {
    "colab": {
     "base_uri": "https://localhost:8080/",
     "height": 85
    },
    "colab_type": "code",
    "id": "iB62sFGqnrql",
    "outputId": "093239de-c7be-438c-f4a0-d626a797c352"
   },
   "outputs": [
    {
     "name": "stdout",
     "output_type": "stream",
     "text": [
      "\n",
      "8. 형태소 분석 결과 : (['사랑', '하', 'ㅂ니다'], ['XR', 'VX', 'EF'])\n",
      "\n",
      "9. 형태소 분석 결과 : (['사랑하', 'ㅂ니다'], ['VV', 'EF'])\n"
     ]
    }
   ],
   "source": [
    "# 사용 8, 사용 9\n",
    "text_analyzed = rhinoMorph.wholeResult_list(rn, '사랑합니다')\n",
    "print( '\\n8. 형태소 분석 결과 :', text_analyzed)\n",
    "text_analyzed = rhinoMorph.wholeResult_list(rn, '사랑합니다', xrVv = True)\n",
    "print( '\\n9. 형태소 분석 결과 :', text_analyzed)\n",
    "\n",
    "#xrVv : 사랑, 하가 사랑하로 붙일 수 있는 것 "
   ]
  },
  {
   "cell_type": "code",
   "execution_count": null,
   "metadata": {
    "colab": {},
    "colab_type": "code",
    "id": "9QunQE88oECP"
   },
   "outputs": [],
   "source": []
  }
 ],
 "metadata": {
  "colab": {
   "name": "NLP-1.ipynb",
   "provenance": []
  },
  "kernelspec": {
   "display_name": "Python 3",
   "language": "python",
   "name": "python3"
  },
  "language_info": {
   "codemirror_mode": {
    "name": "ipython",
    "version": 3
   },
   "file_extension": ".py",
   "mimetype": "text/x-python",
   "name": "python",
   "nbconvert_exporter": "python",
   "pygments_lexer": "ipython3",
   "version": "3.7.4"
  }
 },
 "nbformat": 4,
 "nbformat_minor": 1
}
