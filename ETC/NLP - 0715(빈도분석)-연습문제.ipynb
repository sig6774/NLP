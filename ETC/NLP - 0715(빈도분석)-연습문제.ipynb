{
 "cells": [
  {
   "cell_type": "code",
   "execution_count": 1,
   "metadata": {},
   "outputs": [],
   "source": [
    "import matplot as mpl\n",
    "import matplotlib.pyplot as plt \n",
    "import matplotlib.font_manager as fm\n",
    "import rhinoMorph\n"
   ]
  },
  {
   "cell_type": "code",
   "execution_count": 2,
   "metadata": {
    "scrolled": false
   },
   "outputs": [
    {
     "name": "stdout",
     "output_type": "stream",
     "text": [
      "filepath:  /Users/Moon/opt/anaconda3/lib/python3.7/site-packages\n",
      "classpath:  /Users/Moon/opt/anaconda3/lib/python3.7/site-packages/rhinoMorph/lib/rhino.jar\n",
      "RHINO started!\n"
     ]
    }
   ],
   "source": [
    "rn = rhinoMorph.startRhino()"
   ]
  },
  {
   "cell_type": "code",
   "execution_count": 3,
   "metadata": {},
   "outputs": [],
   "source": [
    "import matplotlib.font_manager as fm\n",
    "fontpath = '/usr/share/fonts/truetype/nanum/NanumMyeongjo.ttf'\n",
    "font = fm.FontProperties(fname = fontpath, size = 9)"
   ]
  },
  {
   "cell_type": "code",
   "execution_count": 4,
   "metadata": {},
   "outputs": [],
   "source": [
    "def read_data(filename, encoding = 'cp949'):\n",
    "    with open(filename, 'r', encoding = encoding ) as f:\n",
    "        data =[line.split(\"\\t\") for line in f.read().splitlines()]\n",
    "        data = data[1:]\n",
    "    return data"
   ]
  },
  {
   "cell_type": "code",
   "execution_count": 5,
   "metadata": {},
   "outputs": [],
   "source": [
    "def write_data(data, filename, encoding = 'cp949'):\n",
    "    with open(filename, 'w', encoding = encoding ) as f:\n",
    "        f.write(data)"
   ]
  },
  {
   "cell_type": "code",
   "execution_count": 6,
   "metadata": {},
   "outputs": [],
   "source": [
    "from wordcloud import WordCloud"
   ]
  },
  {
   "cell_type": "code",
   "execution_count": 7,
   "metadata": {},
   "outputs": [],
   "source": [
    "import matplotlib\n",
    "from matplotlib import font_manager, rc"
   ]
  },
  {
   "cell_type": "markdown",
   "metadata": {},
   "source": [
    "### 연습문제"
   ]
  },
  {
   "cell_type": "markdown",
   "metadata": {},
   "source": [
    "#### 김소월"
   ]
  },
  {
   "cell_type": "code",
   "execution_count": 8,
   "metadata": {},
   "outputs": [],
   "source": [
    "def read_data(filename, encoding = 'utf8'):\n",
    "    with open(filename, 'r', encoding = encoding) as f:\n",
    "        data = f.read()\n",
    "    return data"
   ]
  },
  {
   "cell_type": "code",
   "execution_count": 9,
   "metadata": {
    "scrolled": true
   },
   "outputs": [
    {
     "data": {
      "text/plain": [
       "'못 잊어\\n\\n                                                                      김     소     월\\n\\n \\n\\n \\n\\n         못 잊어 생각이 나겠지요,\\n         그런대로 한세상 지내시구려,\\n         사노라면 잊힐 날 있으리다.\\n\\n         못 잊어 생각이 나겠지요,\\n         그런대로 세월만 가라시구려,\\n         못 잊어도 더러는 잊히오리다.\\n\\n         그러나 또 한끝 이렇지요,\\n         그리워 살뜰히 못 잊는데,\\n         어쩌면 생각이 떠지나요?\\n\\n \\n\\n \\n\\n \\n\\n        삭주구성(朔州龜城)\\n\\n \\n\\n물로 사흘 배 사흘\\n먼 삼천리(三千里)\\n더더구나 걸어 넘는 먼 삼천리(三千里)\\n삭주구성(朔州龜城)은 산(山)을 넘은 육천리(六千里)요.\\n\\n물 맞아 함빡히 젖은 제비도\\n가다가 비에 걸려 오노랍니다\\n저녁에는 높은 산(山)\\n밤에 높은 산(山)\\n\\n삭주구성(朔州龜城)은 산(山) 넘어\\n먼 육천리(六千里)\\n가끔가끔 꿈에는 사오천리(四五千里)\\n가다오다 돌아오는 길이겠지요\\n\\n서로 떠난 몸이길래 몸이 그리워\\n님을 둔 곳이길래 곳이 그리워\\n못 보았소 새들도 집이 그리워\\n남북(南北)으로 오며 가며 아니 합디까.\\n\\n들 끝에 날아가는 나는 구름은\\n밤쯤은 어디 바로 가 있을 텐고\\n삭주구성(朔州龜城)은 산(山) 넘어\\n먼 육천리(六千里)\\n\\n\\n \\n\\n \\n\\n \\n\\n           접동새\\n\\n \\n\\n접동\\n접동\\n아우래비 접동\\n\\n진두강(津頭江) 가람가에 살던 누나는\\n진두강(津頭江) 앞마을에\\n와서 웁니다\\n\\n옛날, 우리 나라\\n먼 뒤쪽의\\n진두강(津頭江) 가람가에 살던 누나는\\n의붓어미 시샘에 죽었습니다.\\n\\n누나라고 불러보랴\\n오오 불설워\\n시새움에 몸이 죽은 우리 누나는\\n죽어서 접동새가 되었습니다\\n\\n아홉이나 남아 되던 오랩동생을\\n죽어서도 못 잊어 차마 못 잊어\\n야삼경(夜三更) 남 다 자는 밤이 깊으면\\n이 산(山) 저 산(山) 옮아가며 슬피 웁니다.\\n\\n\\n \\n\\n \\n\\n\\n           먼 후일\\n\\n \\n\\n먼 훗날 당신이 찾으시면\\n그때에 내 말이 잊었노라.\\n\\n당신이 속으로 나무라면\\n무척 그리다가 잊었노라.\\n\\n그래도 당신이 나무라면\\n믿기지 않아서 잊었노라.\\n\\n오늘도 어제도 아니 잊고\\n먼 훗날 그때에 잊었노라.\\n\\n \\n\\n \\n\\n \\n\\n           산(山)\\n\\n \\n\\n산(山)새도 오리나무\\n위에서 운다\\n산(山)새는 왜 우노, 시메산(山)골\\n영(嶺) 넘어 갈라고 그래서 울지.\\n\\n눈은 내리네, 와서 덮이네.\\n오늘도 하룻길\\n칠팔십리(七八十里)\\n돌아서서 육십리(六十里)는 가기도 했소.\\n\\n불귀(不歸), 불귀(不歸), 다시 불귀(不歸),\\n삼수갑산(三水甲山)에 다시 불귀(不歸).\\n사나이 속이라 잊으련만,\\n십오년(十五年) 정분을 못 잊겠네.\\n\\n산에는 오는 눈, 물에는 녹는 눈.\\n산(山)새도 오리나무\\n위에서 운다.\\n삼수갑산(三水甲山) 가는 길은 고개의 길\\n\\n \\n\\n \\n\\n \\n\\n          예전엔 미처 몰랐어요\\n\\n \\n\\n봄 가을 없이 밤마다 돋는 달도\\n예전엔 미처 몰랐어요.\\n\\n이렇게 사무치게 그리울 줄도\\n예전엔 미처 몰랐어요.\\n\\n달이 암만 밝아도 쳐다볼 줄을\\n예전엔 미처 몰랐어요.\\n\\n이제금 저 달이 설움인 줄은\\n예전엔 미처 몰랐어요.\\n\\n\\n \\n\\n         원앙침(鴛鴦枕)\\n\\n \\n\\n바드득 이를 갈고\\n죽어 볼까요\\n창(窓)가에 아롱아롱\\n달이 비친다\\n\\n눈물은 새우잠의\\n팔굽베개요\\n봄꿩은 잠이 없어\\n밤에 와 운다.\\n\\n두동달이베개는\\n어디 갔는고\\n언제는 둘이 자던 베갯머리에\\n죽쟈 사쟈 언약도 하여 보았지.\\n\\n봄 메의 멧기슭에\\n우는 접동도\\n내 사랑 내 사랑\\n조히 울 것다.\\n\\n두동달이베개는\\n어디 갔는고\\n창(窓)가에 아롱아롱\\n달이 비친다.\\n\\n \\n\\n \\n\\n \\n\\n바다가 변(變)하여 뽕나무밭 된다고\\n\\n \\n\\n걷잡지 못할만한 나의 이 설움,\\n저무는 봄 저녁에 져가는 꽃잎,\\n져가는 꽃잎들은 나부끼어라.\\n예로부터 일러 오며 하는 말에도\\n바다가 변(變)하여 뽕나무밭 된다고.\\n그러하다, 아름다운 청춘(靑春)의 때에\\n있다던 온갖 것은 눈에 설고\\n다시금 낯 모르게 되나니,\\n보아라, 그대여, 서럽지 않은가,\\n봄에도 삼월(三月)의 져가는 날에\\n붉은 피같이도 쏟아쳐 내리는\\n저기 저 꽃잎들을, 저기 저 꽃잎들을.\\n\\n \\n\\n\\n\\n            님의 노래\\n\\n \\n\\n그리운 우리 님의 맑은 노래는\\n언제나 제 가슴에 젖어 있어요.\\n\\n긴 날을 문(門) 밖에서 서서 들어도\\n그리운 우리 님의 고운 노래는\\n해지고 저물도록 귀에 들려요\\n밤들고 잠들도록 귀에 들려요.\\n\\n고이도 흔들리는 노래가락에\\n내 잠은 그만이나 깊이 들어요\\n고적(孤寂)한 잠자리에 홀로 누어도\\n내 잠은 포스근히 깊이 들어요.\\n\\n그러나 자다 깨면 님의 노래는\\n하나도 남김없이 잃어버려요\\n들으면 듣는 대로 님의 노래는\\n하나도 남김없이 잊고 말아요.\\n\\n\\n \\n\\n \\n\\n \\n\\n         눈 오는 저녁\\n\\n \\n\\n바람 자는 이 저녁\\n흰눈은 퍼붓는데\\n무엇하고 계시노\\n같은 저녁 금년(今年)은……\\n\\n꿈이라도 꾸면은!\\n잠들면 만날런가.\\n잊었던 그 사람은\\n흰눈 타고 오시네.\\n\\n저녁때. 흰눈은 퍼부어라.\\n\\n \\n\\n \\n\\n \\n\\n      개여울 \\n\\n당신은 무슨 일로\\n그리합니까?\\n홀로 이 개 여울에 주저앉아서\\n\\n파릇한 풀 포기가\\n돋아 나오고\\n잔물은 봄바람에 해적일 때에\\n\\n가도 아주 가지는\\n않노라 시던\\n그러한 약속이 있었겠지요.\\n\\n날마다 개 여울에\\n나와 앉아서\\n하염없이 무엇을 생각합니다.\\n\\n가도 아주 가지는\\n않노라 심은\\n굳이 잊지 말라는 부탁인지요.\\n\\n \\n\\n \\n\\n \\n\\n          길 \\n       \\n어제도 하루 밤\\n나그네 집에\\n가마귀 가왁가왁 울며 새었소.\\n\\n오늘은\\n또 몇 십 리\\n어디로 갈까.\\n\\n산으로 올라갈까\\n들로 갈까\\n오라는 곳이 없어 나는 못 가오.\\n\\n말 마소, 내 집도\\n정주 곽산\\n차 가고 배가는 곳이라오.\\n\\n여 보소, 공중에\\n저 기러기\\n공중엔 길 있어서 잘 가는가?\\n\\n여 보소, 공중에\\n저 기러기\\n열 십자 복판에 내가 섰소.\\n\\n\\n갈래갈래 갈린 길\\n길이라도\\n내게 바 이 갈 길은 하나 없소.\\n\\n \\n\\n \\n\\n \\n\\n    진달래꽃\\n\\n    \\n\\n나 보기가 역겨워\\n\\n가실 때에는\\n\\n말없이 고이 보내 드리오리다.\\n\\n\\n\\n영변(寧邊)에 약산(藥山)\\n\\n진달래꽃,\\n\\n아름 따다 가실 길에 뿌리오리다.\\n\\n\\n\\n가시는 걸음 걸음\\n\\n놓인 그 꽃을\\n\\n사뿐히 즈려 밟고 가시옵소서.\\n\\n\\n\\n나 보기가 역겨워\\n\\n가실 때에는\\n\\n죽어도 아니 눈물 흘리오리다.\\n\\n \\n\\n\\n \\n\\n \\n\\n  산유화(山有花)\\n\\n      \\n\\n산에는 꽃 피네\\n\\n꽃이 피네\\n\\n갈 봄 여름 없이\\n\\n꽃이 피네.\\n\\n\\n\\n산에\\n\\n산에\\n\\n피는 꽃은\\n\\n저만치 혼자서 피어 있네.\\n\\n\\n\\n산에서 우는 작은 새여\\n\\n꽃이 좋아\\n\\n산에서\\n\\n사노라네.\\n\\n\\n\\n산에는 꽃 지네\\n\\n꽃이 지네\\n\\n갈 봄 여름 없이\\n\\n꽃이 지네.\\n\\n \\n\\n\\n \\n\\n \\n\\n      초혼(招魂)\\n\\n         \\n\\n산산히 부서진 이름이여!\\n\\n허공 중에 헤어진 이름이여!\\n\\n불러도 주인없는 이름이여!\\n\\n부르다가 내가 죽을 이름이여!\\n\\n\\n\\n심중에 남아 있는 말 한 마디는\\n\\n끝끝내 마저 하지 못하였구나.\\n\\n사랑하던 그 사람이여!\\n\\n사랑하던 그 사람이여!\\n\\n\\n\\n붉은 해는 서산 마루에 걸리었다.\\n\\n사슴의 무리도 슬피 운다.\\n\\n떨어져 나가 앉은 산 위에서\\n\\n나는 그대의 이름을 부르노라.\\n\\n\\n\\n설음에 겹도록 부르노라.\\n\\n설음에 겹도록 부르노라.\\n\\n부르는 소리는 빗겨 가지만\\n\\n하늘과 땅 사이가 너무 넓구나.\\n\\n\\n\\n\\n\\n선 채로 이 자리에 돌이 되어도\\n\\n부르다가 내가 죽을 이름이여!\\n\\n사랑하던 그 사람이여!\\n\\n사랑하던 그 사람이여\\n\\n \\n\\n\\n \\n\\n \\n\\n  가는 길\\n\\n   \\n\\n그립다 \\n\\n말을 할까\\n\\n하니 그리워\\n\\n\\n\\n그냥 갈까\\n\\n그래도 \\n\\n다시 더 한 번 ......\\n\\n\\n\\n저 산에도 가마귀, 들에 가마귀,\\n\\n서산에는 해 진다고\\n\\n지저귑니다. \\n\\n\\n\\n앞 강물, 뒷 강물,\\n\\n흐르는 물은\\n\\n어서 따라 오라고 따라 가자고\\n\\n흘러도 연달아 흐릅디다려.'"
      ]
     },
     "execution_count": 9,
     "metadata": {},
     "output_type": "execute_result"
    }
   ],
   "source": [
    "d1 = read_data('/Users/Moon/Desktop/빅데이터 청년인재/NLP/pytest/김소월시.txt', encoding = 'utf-8')\n",
    "d1"
   ]
  },
  {
   "cell_type": "code",
   "execution_count": 10,
   "metadata": {},
   "outputs": [],
   "source": [
    "morphed_data = rhinoMorph.onlyMorph_list(rn, d1 ,pos = ['NNG', 'NNP', \"VV\", 'VA', 'XR', 'IC', 'MM', 'MAG', 'MAG'], eomi = True)\n",
    "#eomi : 복합명사 붙이는것 \n",
    "morphed_data = ' '.join(str(elem) for elem in morphed_data)"
   ]
  },
  {
   "cell_type": "code",
   "execution_count": 11,
   "metadata": {
    "scrolled": false
   },
   "outputs": [
    {
     "name": "stdout",
     "output_type": "stream",
     "text": [
      "mergedTextList :  ['못', '잊다', '김', '소', '월', '못', '잊다', '생각', '그런대로', '한세상', '지내다', '사노', '잊히다', '날', '있다', '못', '잊다', '생각', '그런대로', '세월', '가다', '라', '못', '잊다', '잊히다', '또', '한끝', '이렇다', '그립다', '살뜰히', '못', '잊다', '어쩌면', '생각', '뜨다', '지나다', '삭주', '구성', '물', '사흘', '배', '사흘', '멀다', '삼천리', '더더구나', '걷다', '넘다', '멀다', '삼천리', '삭주', '구성', '살다', '넘다', '요', '물', '맞다', '함빡', '히', '젖다', '제비', '가다', '비', '걸리다', '오노', '저녁', '높다', '살다', '밤', '높다', '살다', '삭주', '구성', '살다', '넘다', '멀다', '가끔가끔', '꿈', '다', '오다', '돌아오다', '길이', '서로', '떠나다', '몸', '몸', '그립다', '둔', '곳', '곳', '그립다', '못', '새들', '집', '그립다', '남북', '하다', '들다', '끝', '날아가다', '날다', '구름', '밤', '바로', '가', '텐', '삭주', '구성', '살다', '넘다', '멀다', '접동새', '접동', '접동', '아우', '비다', '접동', '진두', '강', '가람', '살다', '누나', '진두', '강', '앞마을', '오다', '울다', '옛날', '나라', '멀다', '뒤쪽', '진두', '강', '가람', '살다', '누나', '의붓어미', '시샘', '죽다', '누나', '부르다', '오오', '불다', '섧다', '시새움', '몸', '죽다', '누나', '죽다', '접동새', '되다', '남다', '되다', '랩', '동생', '죽다', '못', '잊다', '차마', '못', '잊다', '야삼경', '남', '다', '밤', '깊다', '이', '살다', '저', '살다', '옮아가다', '슬피', '울다', '멀다', '후일', '멀다', '훗날', '찾다', '그때', '말', '잊다', '속', '나무라다', '무척', '그리다', '잊다', '그래도', '나무라다', '믿기다', '잊다', '오늘', '어제', '잊다', '멀다', '훗날', '그때', '잊다', '살다', '살다', '새다', '오리나무', '위', '울다', '살다', '새다', '왜', '우노', '시', '메다', '살다', '골', '영', '넘다', '울다', '눈', '내리다', '오다', '덮이다', '오늘', '하룻길', '돌아서다', '가다', '하다', '불귀', '불귀', '다시', '불귀', '삼수갑산', '다시', '불귀', '사나이', '속이다', '잊다', '년', '정분', '못', '잊다', '산', '오다', '눈', '물', '녹다', '눈', '살다', '새다', '오리나무', '위', '울다', '삼수갑산', '가다', '길', '고개', '길', '예전', '미처', '모르다', '봄', '가을', '없이', '밤', '돋다', '달', '예전', '미처', '모르다', '이렇게', '사무치다', '그립다', '예전', '미처', '모르다', '달이다', '암만', '밝다', '쳐다보다', '예전', '미처', '모르다', '이제', '금', '저', '달이다', '설움', '예전', '미처', '모르다', '원앙', '치다', '바드득', '이', '갈고다', '죽다', '창', '아롱아롱', '달이다', '비치다', '눈물', '새우잠', '팔굽', '베개', '보다', '꿩', '잠', '없다', '밤', '와', '울다', '동달이', '베개', '가다', '베갯머리', '죽다', '사다', '언약', '하다', '봄', '메', '멧', '기슭', '울다', '접동', '사랑', '사랑', '조히', '울', '동달이', '베개', '가다', '창', '아롱아롱', '달이다', '비치다', '바다', '변', '하다', '뽕나무', '밭', '되다', '걷잡다', '못하다', '이', '설움', '무', '봄', '저녁', '꽃잎', '꽃잎', '나부끼다', '예', '이르다', '말', '바다', '변', '하다', '뽕나무', '밭', '되다', '그러하다', '아름답다', '청춘', '때', '있다', '온갖', '눈', '서다', '다시금', '낯', '모르다', '되다', '서럽다', '보다', '삼월', '날', '붉은', '피다', '쏟다', '내리다', '저', '꽃잎', '저', '꽃잎', '노래', '그립다', '맑다', '노래', '언제나', '가슴', '젖다', '길다', '날', '문', '밖', '서다', '들다', '그립다', '고운', '노래다', '해지', '저물다', '귀', '들려오다', '밤', '들다', '잠들다', '귀', '들려오다', '고이도', '흔들리다', '노래', '가락', '잠', '그만', '깊이', '들다', '고적', '하다', '잠자리', '홀로', '누다', '잠', '포스', '근', '히', '깊이', '들다', '깨다', '노래', '남김없이', '잃다', '들다', '듣다', '노래', '남김없이', '잊다', '말다', '눈', '오다', '저녁', '바람', '이', '저녁', '흰눈', '퍼붓다', '무엇', '계시', '같다', '저녁', '금년', '꿈', '꾸다', '잠들다', '만날', '런', '잊다', '그', '사람', '흰눈', '타다', '오다', '저녁때', '흰눈', '퍼붓다', '여울', '무슨', '일', '그리다', '홀로', '이', '개', '여울', '주저앉다', '파릇', '풀다', '포기', '돋다', '나오다', '잔', '물다', '봄바람', '해적', '때', '가다', '아주', '가다', '그러다', '약속', '있다', '날', '개', '여울', '나오다', '앉다', '하염없이', '생각', '가다', '아주', '가다', '심다', '굳이', '잊다', '마르다', '부탁', '길', '어제', '하루', '밤', '나그네', '집', '가마귀', '가다', '왁', '왁', '울다', '새다', '오늘', '또', '몇', '가다', '올라가다', '가다', '곳', '없다', '못', '가다', '말', '마소', '집', '정주', '곽산', '차', '가다', '배가', '곳', '여', '보다', '공중', '저', '기러기', '공중', '길', '있다', '잘', '가늘다', '여', '보다', '공중', '저', '기러기', '열다', '십자', '복판', '서다', '갈래갈래', '갈리다', '길', '길이', '이', '가다', '길', '없다', '진달래꽃', '역겹다', '가시다', '때', '말없이', '고이', '보내다', '드리다', '영변', '약산', '진달래꽃', '따다', '가시다', '길', '뿌리다', '가다', '걸음', '걸음', '놓이다', '그', '꽃', '사뿐히', '즈려', '밟다', '역겹다', '가시다', '때', '죽다', '눈물', '흘리다', '산유화', '산', '꽃', '피다', '꽃', '피다', '가다', '봄', '여름', '없이', '꽃', '피다', '피다', '꽃', '저만치', '혼자', '피다', '산', '울다', '작', '새다', '꽃', '좋다', '산', '사노', '산', '꽃', '지네', '꽃', '지네', '가다', '봄', '여름', '없이', '꽃', '지네', '초혼', '산산히', '부서지다', '이름', '허공', '헤어지다', '이름', '부르다', '주인', '없다', '이름', '부르다', '죽다', '이름', '심중', '남다', '말', '마디', '끝끝내', '마저', '하다', '사랑하다', '그', '사람', '사랑하다', '그', '사람', '붉은', '해', '서산', '마루', '걸리다', '사슴', '무리', '슬피', '울다', '떨어지다', '나가다', '앉다', '살다', '위', '이름', '부르노', '설', '겹다', '부르노', '설', '겹다', '부르노', '부르다', '소리', '빗기다', '하늘', '땅', '사이', '너무', '넓다', '선', '이', '자리', '돌이', '되다', '부르다', '죽다', '이름', '사랑하다', '그', '사람', '사랑하다', '그', '사람', '가다', '길', '그립다', '말', '하다', '그립다', '그냥', '가다', '그래도', '다시다', '더', '저', '가마귀', '가마귀', '서산', '하다', '지다', '지저귀다', '앞', '강물', '강물', '흐르다', '물', '어서', '따르다', '오다', '따르다', '흐르다', '연달다', '흐', '다리다']\n"
     ]
    }
   ],
   "source": [
    "mergedTextList = morphed_data.split(' ')\n",
    "print('mergedTextList : ', mergedTextList)"
   ]
  },
  {
   "cell_type": "code",
   "execution_count": 14,
   "metadata": {},
   "outputs": [],
   "source": [
    "from collections import Counter"
   ]
  },
  {
   "cell_type": "code",
   "execution_count": 15,
   "metadata": {
    "scrolled": false
   },
   "outputs": [
    {
     "name": "stdout",
     "output_type": "stream",
     "text": [
      "wordInfo :  Counter({'가다': 21, '잊다': 17, '살다': 15, '못': 10, '울다': 10, '그립다': 9, '하다': 9, '죽다': 9, '꽃': 9, '멀다': 8, '길': 8, '밤': 7, '오다': 7, '이': 7, '저': 7, '들다': 6, '되다': 6, '모르다': 6, '피다': 6, '그': 6, '이름': 6, '넘다': 5, '저녁': 5, '부르다': 5, '말': 5, '새다': 5, '눈': 5, '산': 5, '예전': 5, '미처': 5, '봄': 5, '노래': 5, '사람': 5, '생각': 4, '날': 4, '있다': 4, '삭주': 4, '구성': 4, '물': 4, '곳': 4, '접동': 4, '누나': 4, '불귀': 4, '달이다': 4, '보다': 4, '없다': 4, '꽃잎': 4, '때': 4, '사랑하다': 4, '몸': 3, '집': 3, '진두': 3, '강': 3, '오늘': 3, '위': 3, '없이': 3, '베개': 3, '잠': 3, '서다': 3, '흰눈': 3, '여울': 3, '가마귀': 3, '공중': 3, '가시다': 3, '지네': 3, '부르노': 3, '그런대로': 2, '사노': 2, '잊히다': 2, '또': 2, '사흘': 2, '삼천리': 2, '히': 2, '젖다': 2, '걸리다': 2, '높다': 2, '꿈': 2, '다': 2, '길이': 2, '접동새': 2, '가람': 2, '남다': 2, '슬피': 2, '훗날': 2, '그때': 2, '나무라다': 2, '그리다': 2, '그래도': 2, '어제': 2, '오리나무': 2, '내리다': 2, '다시': 2, '삼수갑산': 2, '돋다': 2, '설움': 2, '창': 2, '아롱아롱': 2, '비치다': 2, '눈물': 2, '동달이': 2, '사랑': 2, '바다': 2, '변': 2, '뽕나무': 2, '밭': 2, '붉은': 2, '귀': 2, '들려오다': 2, '잠들다': 2, '깊이': 2, '홀로': 2, '남김없이': 2, '퍼붓다': 2, '개': 2, '나오다': 2, '아주': 2, '앉다': 2, '왁': 2, '여': 2, '기러기': 2, '진달래꽃': 2, '역겹다': 2, '걸음': 2, '여름': 2, '서산': 2, '설': 2, '겹다': 2, '강물': 2, '흐르다': 2, '따르다': 2, '김': 1, '소': 1, '월': 1, '한세상': 1, '지내다': 1, '세월': 1, '라': 1, '한끝': 1, '이렇다': 1, '살뜰히': 1, '어쩌면': 1, '뜨다': 1, '지나다': 1, '배': 1, '더더구나': 1, '걷다': 1, '요': 1, '맞다': 1, '함빡': 1, '제비': 1, '비': 1, '오노': 1, '가끔가끔': 1, '돌아오다': 1, '서로': 1, '떠나다': 1, '둔': 1, '새들': 1, '남북': 1, '끝': 1, '날아가다': 1, '날다': 1, '구름': 1, '바로': 1, '가': 1, '텐': 1, '아우': 1, '비다': 1, '앞마을': 1, '옛날': 1, '나라': 1, '뒤쪽': 1, '의붓어미': 1, '시샘': 1, '오오': 1, '불다': 1, '섧다': 1, '시새움': 1, '랩': 1, '동생': 1, '차마': 1, '야삼경': 1, '남': 1, '깊다': 1, '옮아가다': 1, '후일': 1, '찾다': 1, '속': 1, '무척': 1, '믿기다': 1, '왜': 1, '우노': 1, '시': 1, '메다': 1, '골': 1, '영': 1, '덮이다': 1, '하룻길': 1, '돌아서다': 1, '사나이': 1, '속이다': 1, '년': 1, '정분': 1, '녹다': 1, '고개': 1, '가을': 1, '달': 1, '이렇게': 1, '사무치다': 1, '암만': 1, '밝다': 1, '쳐다보다': 1, '이제': 1, '금': 1, '원앙': 1, '치다': 1, '바드득': 1, '갈고다': 1, '새우잠': 1, '팔굽': 1, '꿩': 1, '와': 1, '베갯머리': 1, '사다': 1, '언약': 1, '메': 1, '멧': 1, '기슭': 1, '조히': 1, '울': 1, '걷잡다': 1, '못하다': 1, '무': 1, '나부끼다': 1, '예': 1, '이르다': 1, '그러하다': 1, '아름답다': 1, '청춘': 1, '온갖': 1, '다시금': 1, '낯': 1, '서럽다': 1, '삼월': 1, '쏟다': 1, '맑다': 1, '언제나': 1, '가슴': 1, '길다': 1, '문': 1, '밖': 1, '고운': 1, '노래다': 1, '해지': 1, '저물다': 1, '고이도': 1, '흔들리다': 1, '가락': 1, '그만': 1, '고적': 1, '잠자리': 1, '누다': 1, '포스': 1, '근': 1, '깨다': 1, '잃다': 1, '듣다': 1, '말다': 1, '바람': 1, '무엇': 1, '계시': 1, '같다': 1, '금년': 1, '꾸다': 1, '만날': 1, '런': 1, '타다': 1, '저녁때': 1, '무슨': 1, '일': 1, '주저앉다': 1, '파릇': 1, '풀다': 1, '포기': 1, '잔': 1, '물다': 1, '봄바람': 1, '해적': 1, '그러다': 1, '약속': 1, '하염없이': 1, '심다': 1, '굳이': 1, '마르다': 1, '부탁': 1, '하루': 1, '나그네': 1, '몇': 1, '올라가다': 1, '마소': 1, '정주': 1, '곽산': 1, '차': 1, '배가': 1, '잘': 1, '가늘다': 1, '열다': 1, '십자': 1, '복판': 1, '갈래갈래': 1, '갈리다': 1, '말없이': 1, '고이': 1, '보내다': 1, '드리다': 1, '영변': 1, '약산': 1, '따다': 1, '뿌리다': 1, '놓이다': 1, '사뿐히': 1, '즈려': 1, '밟다': 1, '흘리다': 1, '산유화': 1, '저만치': 1, '혼자': 1, '작': 1, '좋다': 1, '초혼': 1, '산산히': 1, '부서지다': 1, '허공': 1, '헤어지다': 1, '주인': 1, '심중': 1, '마디': 1, '끝끝내': 1, '마저': 1, '해': 1, '마루': 1, '사슴': 1, '무리': 1, '떨어지다': 1, '나가다': 1, '소리': 1, '빗기다': 1, '하늘': 1, '땅': 1, '사이': 1, '너무': 1, '넓다': 1, '선': 1, '자리': 1, '돌이': 1, '그냥': 1, '다시다': 1, '더': 1, '지다': 1, '지저귀다': 1, '앞': 1, '어서': 1, '연달다': 1, '흐': 1, '다리다': 1})\n"
     ]
    }
   ],
   "source": [
    "wordInfo = Counter(mergedTextList)\n",
    "print('wordInfo : ', wordInfo)"
   ]
  },
  {
   "cell_type": "code",
   "execution_count": 17,
   "metadata": {},
   "outputs": [],
   "source": [
    "sorted_keys = sorted(wordInfo, key = wordInfo.get, reverse = True)\n",
    "sorted_values = sorted(wordInfo.values(), reverse = True)"
   ]
  },
  {
   "cell_type": "code",
   "execution_count": 18,
   "metadata": {},
   "outputs": [],
   "source": [
    "a = []\n",
    "for w in sorted_values:\n",
    "    a.append((w/sum(sorted_values))*100)"
   ]
  },
  {
   "cell_type": "code",
   "execution_count": 20,
   "metadata": {},
   "outputs": [],
   "source": [
    "import numpy as np"
   ]
  },
  {
   "cell_type": "code",
   "execution_count": 21,
   "metadata": {
    "scrolled": true
   },
   "outputs": [
    {
     "name": "stdout",
     "output_type": "stream",
     "text": [
      "김소월 단어 빈도 총합 :  727\n",
      "김소월 고빈도 단어 :  ['가다', '잊다', '살다', '못', '울다', '그립다', '하다', '죽다', '꽃', '멀다', '길', '밤', '오다', '이', '저', '들다', '되다', '모르다', '피다', '그']\n",
      "김소월 고빈도 단어 비율 :  [3. 2. 2. 1. 1. 1. 1. 1. 1. 1. 1. 1. 1. 1. 1. 1. 1. 1. 1. 1.]\n"
     ]
    }
   ],
   "source": [
    "print('김소월 단어 빈도 총합 : ', sum(sorted_values))\n",
    "print('김소월 고빈도 단어 : ', sorted_keys[:20])\n",
    "print('김소월 고빈도 단어 비율 : ', np.round(a[:20],0))"
   ]
  },
  {
   "cell_type": "code",
   "execution_count": 23,
   "metadata": {},
   "outputs": [],
   "source": [
    "fontpath = ('/Library/Fonts/Arial Unicode.ttf')\n",
    "fontname = font_manager.FontProperties(fname = fontpath).get_name()\n",
    "matplotlib.rc('font', family = fontname)"
   ]
  },
  {
   "cell_type": "code",
   "execution_count": 24,
   "metadata": {
    "scrolled": true
   },
   "outputs": [
    {
     "data": {
      "image/png": "[encoded data removed]",
      "text/plain": [
       "<Figure size 432x288 with 1 Axes>"
      ]
     },
     "metadata": {
      "needs_background": "light"
     },
     "output_type": "display_data"
    }
   ],
   "source": [
    "plt.bar(range(20), a[:20])\n",
    "#가장 많은 순으로 20개를 뽑아서 출력 \n",
    "plt.xticks(range(20), sorted_keys[:20])\n",
    "plt.show()"
   ]
  },
  {
   "cell_type": "markdown",
   "metadata": {},
   "source": [
    "#### 윤동주"
   ]
  },
  {
   "cell_type": "code",
   "execution_count": 25,
   "metadata": {},
   "outputs": [
    {
     "data": {
      "text/plain": [
       "'1. 내일은 없다\\n\\n내일 내일 하기에\\n\\n물었더니\\n\\n밤을 자고 동틀 때\\n\\n내일이라고\\n\\n새날을 찾던 나는\\n\\n잠을 자고 돌보니\\n\\n그때는 내일이 아니라\\n\\n오늘이더라\\n\\n동무여!\\n\\n내일은 없나니……\\n\\n2. 흰 그림자\\n황혼이 짙어지는 길모금에서\\n\\n하루 종일 시든 귀를 가만히 기울이면\\n\\n땅거미 옮겨지는 발자취 소리,\\n\\n발자취 소리를 들을 수 있도록\\n\\n나는 총명했던가요.\\n\\n3. 별 헤는 밤\\n계절이 지나가는 하늘에는 가을로 가득 차 있습니다.\\n\\n나는 아무 걱정도 없이\\n\\n가을 속의 별들을 다 헤일 듯 합니다.\\n\\n가슴 속에 하나 둘 새겨지는 별을 이제 다 못헤는 것은\\n\\n쉬이 아침이 오는 까닭이요, 내일 밤이 남은 까닭이요,\\n\\n아직 나의 청춘이 다 하지 않은 까닭입니다.\\n\\n4. 쉽게 씌여진 시\\n창밖에 밤비가 속살거려\\n\\n육첩방은 남의 나라,\\n\\n시인이란 슬픈 천명인줄 알면서도\\n\\n한줄 시를 적어 볼까.\\n\\n5. 병원\\n나의 늙은 의사는 젊은이의 병을 모른다.\\n\\n나한테는 병이 없다고 한다.\\n\\n이 지나친 시련, 이 지나친 피로, 나는 성내서는 안 된다.\\n\\n6. 새로운 길\\n내를 건너서 숲으로\\n\\n고개를 넘어서 마을로\\n\\n어제도 가고 오늘도 갈\\n\\n나의 길 새로운 길\\n\\n7. 아우의 인상화\\n붉은 이마에 싸늘한 달이 서리어\\n\\n아우의 얼굴은 슬픈 그림이다.\\n\\n발걸음을 멈추어\\n\\n살그머니 앳된 손을 잡으며\\n\\n\"너는 자라 무엇이 되려니\"\\n\\n\"사람이 되지\"\\n\\n아우의 설은 진정코 설은 대답이다.\\n\\n8. 바람이 불어\\n바람이 어디로부터 불어와\\n\\n어디로 불려가는 것일까.\\n\\n바람이 부는데\\n\\n내 괴로움에는 이유가 없다.\\n\\n9. 참회록\\n파란 녹이 낀 구리거울 속에\\n\\n내 얼굴이 남아있는 것은\\n\\n어느 왕조의 유물이기에\\n\\n이다지도 욕될까.\\n\\n나는 나의 참회의 글을 한줄에 줄이자.\\n\\n-만 24년 1개월을\\n\\n무슨 기쁨을 바라 살아왔든가.\\n\\n내일이나 모레나 그 어느 즐거운 날에\\n\\n나는 또 한 줄의 참회록을 써야 한다.\\n\\n10. 봄\\n극 중 윤동주(강하늘)가 도쿄 릿교대학 영문학 수업을 듣다 써 내려간 시로 등장한다.\\n\\n봄이 혈관 속에 시내처럼 흘러\\n\\n돌, 돌, 시내 가차운 언덕에\\n\\n개나리, 진달래, 노오란 배추꽃\\n\\n삼동을 참아온 나는\\n\\n풀포기처럼 피어난다.\\n\\n즐거운 종달새야\\n\\n어느 이랑에서나 즐거웁게 솟쳐라.\\n\\n푸르른 하늘은\\n\\n아른 아른 높기도 한데……\\n\\n11. 사랑스런 추억\\n기차는 아무 새로운 소식도 없이\\n\\n나를 멀리 실어다 주어,\\n\\n봄은 다 가고 동경 교외 어느 조용한 하숙방에서,\\n\\n옛 거리에 남은 나를 희망과 사랑처럼 그리워한다.\\n\\n오늘도 기차는 몇 번이나 무의미하게 지나가고,\\n\\n오늘도 나는 누구를 기다려\\n\\n정거장 가까운 언덕에서 서성거릴 게다.\\n\\n아아 젊음은 오래 거기 남아 있거라.\\n\\n12. 공상\\n나는 말없이 이 탑을 쌓고 있다.\\n\\n명예와 허영의 천공에다,\\n\\n무너질 줄도 모르고,\\n\\n한 층 두 층 높이 쌓는다.\\n\\n13. 자화상\\n한 사나이가 있습니다.\\n\\n어쩐지 그 사나이가 미워져 돌아갑니다.\\n\\n돌아가다 생각하니 그 사나이가 가엾어집니다.\\n\\n도로 가 들여다보니 사나이는 그대로 있습니다.\\n\\n다시 그 사나이가 미워져 돌아갑니다.\\n\\n돌아가다 생각하니 그 사나이가 그리워집니다.'"
      ]
     },
     "execution_count": 25,
     "metadata": {},
     "output_type": "execute_result"
    }
   ],
   "source": [
    "d2 = read_data('/Users/Moon/Desktop/빅데이터 청년인재/NLP/pytest/윤동주시.txt', encoding = 'utf-8')\n",
    "d2"
   ]
  },
  {
   "cell_type": "code",
   "execution_count": 26,
   "metadata": {},
   "outputs": [],
   "source": [
    "morphed_data = rhinoMorph.onlyMorph_list(rn, d2 ,pos = ['NNG', 'NNP', \"VV\", 'VA', 'XR', 'IC', 'MM', 'MAG', 'MAG'], eomi = True)\n",
    "#eomi : 복합명사 붙이는것 \n",
    "morphed_data = ' '.join(str(elem) for elem in morphed_data)"
   ]
  },
  {
   "cell_type": "code",
   "execution_count": 27,
   "metadata": {
    "scrolled": true
   },
   "outputs": [
    {
     "name": "stdout",
     "output_type": "stream",
     "text": [
      "mergedTextList :  ['내일', '없다', '내일', '내일', '하다', '묻다', '밤', '동트다', '때', '내일', '새날', '찾다', '잠', '돌보다', '그때', '내일', '오늘', '동무', '내일', '없다', '희다', '그림자', '황혼', '짙다', '길', '모금', '하루', '종일', '시들다', '귀', '가만히', '기울이다', '땅거미', '옮기다', '발자취', '소리', '발자취', '소리', '듣다', '있다', '총명', '별', '헤다', '밤', '계절', '지나가다', '하늘', '가을', '가득', '차', '아무', '걱정', '없이', '가을', '속의', '별', '다', '헤이다', '하다', '가슴', '속', '새기다', '이제', '다', '못', '헤다', '쉬이', '아침', '오다', '까닭', '내일', '밤', '남은', '까닭', '아직', '청춘', '다', '하다', '까닭', '쉽다', '씌다', '여진', '시', '창밖', '밤비', '속살거리다', '육첩방', '남', '나라', '시인', '슬프다', '천명인', '알다', '하다', '적다', '병원', '늙다', '의사', '젊은이', '병', '모르다', '병', '없다', '이', '지나치다', '시련', '이', '지나치다', '피로', '성내다', '서다', '안', '되다', '새롭다', '길', '내', '건너서다', '숲', '고개', '넘다', '마을', '어제', '가다', '오늘', '가다', '길', '새롭다', '길', '아우', '인상화', '붉은', '이마', '싸늘', '달이다', '서리다', '아우', '얼굴', '슬프다', '그림', '발걸음', '멈추다', '살그머니', '앳되다', '손', '잡다', '자다', '되려', '사람', '되다', '아우', '진정코', '대답', '바람', '불다', '바람', '불어오다', '불리다', '바람', '부', '괴로움', '이유', '없다', '참회록', '파란', '녹이다', '끼이다', '구리거울', '속', '얼굴', '남다', '어느', '왕조', '유물', '이다지', '욕', '되다', '참회', '글', '하다', '주다', '줄이다', '만', '무슨', '기쁨', '바라다', '살아오다', '내일', '모레', '그', '어느', '즐겁다', '날', '또', '하다', '참회록', '쓰다', '봄', '극', '윤동주', '강하다', '늘다', '도쿄', '릿교', '대학', '영문학', '수업', '듣다', '써', '내려가다', '시', '등장', '봄', '혈관', '속', '시내', '흐르다', '돌', '돌', '시내', '가차', '울다', '언덕', '개나리', '진달래', '노랗다', '배추', '꽃', '동', '참다', '풀포기', '피어나다', '즐겁다', '종달새', '어느', '이랑', '즐거웁다', '솟다', '푸르르다', '하늘', '높다', '한데', '사랑', '추억', '기차다', '아무', '새롭다', '소식', '없이', '멀리', '싣다', '주다', '봄', '다', '가다', '동경', '교외', '어느', '조용', '하숙방', '옛', '거리', '남은', '희망', '사랑', '그립다', '오늘', '기차다', '무의미', '하다', '지나가다', '오늘', '날다', '기다리다', '정거장', '가깝다', '언덕', '서성거리다', '아아', '젊음', '오래', '남다', '공상', '말없이', '이', '탑', '쌓다', '있다', '명예', '허영', '천공', '무너지다', '모르다', '하다', '층', '두', '층', '높이', '쌓다', '자화상', '한', '사나이', '어쩐지', '그', '사나이', '밉다', '돌아가다', '돌아가다', '생각', '그', '사나이', '가엾다', '도로', '가', '들여다보다', '사나이', '그대로', '다시', '그', '사나이', '밉다', '돌아가다', '돌아가다', '생각', '그', '사나이', '그립다']\n"
     ]
    }
   ],
   "source": [
    "mergedTextList = morphed_data.split(' ')\n",
    "print('mergedTextList : ', mergedTextList)"
   ]
  },
  {
   "cell_type": "code",
   "execution_count": 28,
   "metadata": {
    "scrolled": true
   },
   "outputs": [
    {
     "name": "stdout",
     "output_type": "stream",
     "text": [
      "wordInfo :  Counter({'내일': 8, '하다': 8, '사나이': 6, '그': 5, '없다': 4, '오늘': 4, '길': 4, '다': 4, '어느': 4, '돌아가다': 4, '밤': 3, '속': 3, '까닭': 3, '이': 3, '되다': 3, '새롭다': 3, '가다': 3, '아우': 3, '바람': 3, '봄': 3, '발자취': 2, '소리': 2, '듣다': 2, '있다': 2, '별': 2, '헤다': 2, '지나가다': 2, '하늘': 2, '가을': 2, '아무': 2, '없이': 2, '남은': 2, '시': 2, '슬프다': 2, '병': 2, '모르다': 2, '지나치다': 2, '얼굴': 2, '참회록': 2, '남다': 2, '주다': 2, '즐겁다': 2, '시내': 2, '돌': 2, '언덕': 2, '사랑': 2, '기차다': 2, '그립다': 2, '쌓다': 2, '층': 2, '밉다': 2, '생각': 2, '묻다': 1, '동트다': 1, '때': 1, '새날': 1, '찾다': 1, '잠': 1, '돌보다': 1, '그때': 1, '동무': 1, '희다': 1, '그림자': 1, '황혼': 1, '짙다': 1, '모금': 1, '하루': 1, '종일': 1, '시들다': 1, '귀': 1, '가만히': 1, '기울이다': 1, '땅거미': 1, '옮기다': 1, '총명': 1, '계절': 1, '가득': 1, '차': 1, '걱정': 1, '속의': 1, '헤이다': 1, '가슴': 1, '새기다': 1, '이제': 1, '못': 1, '쉬이': 1, '아침': 1, '오다': 1, '아직': 1, '청춘': 1, '쉽다': 1, '씌다': 1, '여진': 1, '창밖': 1, '밤비': 1, '속살거리다': 1, '육첩방': 1, '남': 1, '나라': 1, '시인': 1, '천명인': 1, '알다': 1, '적다': 1, '병원': 1, '늙다': 1, '의사': 1, '젊은이': 1, '시련': 1, '피로': 1, '성내다': 1, '서다': 1, '안': 1, '내': 1, '건너서다': 1, '숲': 1, '고개': 1, '넘다': 1, '마을': 1, '어제': 1, '인상화': 1, '붉은': 1, '이마': 1, '싸늘': 1, '달이다': 1, '서리다': 1, '그림': 1, '발걸음': 1, '멈추다': 1, '살그머니': 1, '앳되다': 1, '손': 1, '잡다': 1, '자다': 1, '되려': 1, '사람': 1, '진정코': 1, '대답': 1, '불다': 1, '불어오다': 1, '불리다': 1, '부': 1, '괴로움': 1, '이유': 1, '파란': 1, '녹이다': 1, '끼이다': 1, '구리거울': 1, '왕조': 1, '유물': 1, '이다지': 1, '욕': 1, '참회': 1, '글': 1, '줄이다': 1, '만': 1, '무슨': 1, '기쁨': 1, '바라다': 1, '살아오다': 1, '모레': 1, '날': 1, '또': 1, '쓰다': 1, '극': 1, '윤동주': 1, '강하다': 1, '늘다': 1, '도쿄': 1, '릿교': 1, '대학': 1, '영문학': 1, '수업': 1, '써': 1, '내려가다': 1, '등장': 1, '혈관': 1, '흐르다': 1, '가차': 1, '울다': 1, '개나리': 1, '진달래': 1, '노랗다': 1, '배추': 1, '꽃': 1, '동': 1, '참다': 1, '풀포기': 1, '피어나다': 1, '종달새': 1, '이랑': 1, '즐거웁다': 1, '솟다': 1, '푸르르다': 1, '높다': 1, '한데': 1, '추억': 1, '소식': 1, '멀리': 1, '싣다': 1, '동경': 1, '교외': 1, '조용': 1, '하숙방': 1, '옛': 1, '거리': 1, '희망': 1, '무의미': 1, '날다': 1, '기다리다': 1, '정거장': 1, '가깝다': 1, '서성거리다': 1, '아아': 1, '젊음': 1, '오래': 1, '공상': 1, '말없이': 1, '탑': 1, '명예': 1, '허영': 1, '천공': 1, '무너지다': 1, '두': 1, '높이': 1, '자화상': 1, '한': 1, '어쩐지': 1, '가엾다': 1, '도로': 1, '가': 1, '들여다보다': 1, '그대로': 1, '다시': 1})\n"
     ]
    }
   ],
   "source": [
    "wordInfo = Counter(mergedTextList)\n",
    "print('wordInfo : ', wordInfo)"
   ]
  },
  {
   "cell_type": "code",
   "execution_count": 29,
   "metadata": {},
   "outputs": [],
   "source": [
    "sorted_keys = sorted(wordInfo, key = wordInfo.get, reverse = True)\n",
    "sorted_values = sorted(wordInfo.values(), reverse = True)"
   ]
  },
  {
   "cell_type": "code",
   "execution_count": 31,
   "metadata": {},
   "outputs": [],
   "source": [
    "sorted_keys = sorted(wordInfo, key = wordInfo.get, reverse = True)\n",
    "sorted_values = sorted(wordInfo.values(), reverse = True)"
   ]
  },
  {
   "cell_type": "code",
   "execution_count": 32,
   "metadata": {},
   "outputs": [],
   "source": [
    "a = []\n",
    "for w in sorted_values:\n",
    "    a.append((w/sum(sorted_values))*100)"
   ]
  },
  {
   "cell_type": "code",
   "execution_count": 39,
   "metadata": {
    "scrolled": false
   },
   "outputs": [
    {
     "name": "stdout",
     "output_type": "stream",
     "text": [
      "김소월 단어 빈도 총합 :  326\n",
      "김소월 고빈도 단어 :  ['내일', '하다', '사나이', '그', '없다', '오늘', '길', '다', '어느', '돌아가다', '밤', '속', '까닭', '이', '되다', '새롭다', '가다', '아우', '바람', '봄']\n",
      "김소월 고빈도 단어 비율 :  [2.45 2.45 1.84 1.53 1.23 1.23 1.23 1.23 1.23 1.23 0.92 0.92 0.92 0.92\n",
      " 0.92 0.92 0.92 0.92 0.92 0.92]\n"
     ]
    }
   ],
   "source": [
    "print('김소월 단어 빈도 총합 : ', sum(sorted_values))\n",
    "print('김소월 고빈도 단어 : ', sorted_keys[:20])\n",
    "print('김소월 고빈도 단어 비율 : ', np.round(a[:20],2))"
   ]
  },
  {
   "cell_type": "markdown",
   "metadata": {},
   "source": [
    "### 감성사전"
   ]
  },
  {
   "cell_type": "code",
   "execution_count": 63,
   "metadata": {},
   "outputs": [
    {
     "name": "stdout",
     "output_type": "stream",
     "text": [
      "200000\n"
     ]
    }
   ],
   "source": [
    "data = read_data('/Users/Moon/Desktop/빅데이터 청년인재/NLP/pytest_대용량/ratings.txt', encoding = 'cp949')\n",
    "print(len(data))"
   ]
  },
  {
   "cell_type": "code",
   "execution_count": 72,
   "metadata": {},
   "outputs": [],
   "source": [
    "morphed_data = ' '\n",
    "for data_each in data:\n",
    "    morphed_data_each = rhinoMorph.onlyMorph_list(rn, data_each[1],\n",
    "                        pos = ['NNG', 'NNP', \"VV\", 'VA', 'XR', 'IC', 'MM', 'MAG', 'MAj'])\n",
    "    joined_data_each = ' '.join(morphed_data_each)\n",
    "    if joined_data_each:\n",
    "        morphed_data += data_each[0]+'\\t'+joined_data_each+'\\t'+data_each[2]+'\\n'\n",
    "    "
   ]
  },
  {
   "cell_type": "code",
   "execution_count": 73,
   "metadata": {},
   "outputs": [],
   "source": [
    "write_data(morphed_data, 'ratings_morphed.txt', encoding = 'cp949')"
   ]
  },
  {
   "cell_type": "code",
   "execution_count": 74,
   "metadata": {},
   "outputs": [
    {
     "name": "stdout",
     "output_type": "stream",
     "text": [
      "197510\n",
      "3\n",
      "['8132799', '디자인 배우 학생 외국 디자이너 일구 전통 통하 발전 문화 산업 부럽 사실 우리나라 그 어렵 시절 끝 열정 지키 노라노 같 전통 있 같 사람 꿈 꾸 이루 나가 있 감사', '1']\n"
     ]
    }
   ],
   "source": [
    "data = read_data('ratings_morphed.txt', encoding = 'cp949')\n",
    "print(len(data))\n",
    "print(len(data[0]))\n",
    "print(data[0])"
   ]
  },
  {
   "cell_type": "code",
   "execution_count": 77,
   "metadata": {},
   "outputs": [],
   "source": [
    "data_id = [line[0] for line in data]\n",
    "data_text = [line[1] for line in data]\n",
    "data_senti = [line[2] for line in data]\n",
    "\n",
    "positive = read_data('/Users/Moon/Desktop/빅데이터 청년인재/NLP/pytest/positive.txt')\n",
    "negative = read_data('/Users/Moon/Desktop/빅데이터 청년인재/NLP/pytest/negative.txt')\n",
    "\n",
    "pos_found = []\n",
    "neg_found = []"
   ]
  },
  {
   "cell_type": "code",
   "execution_count": 80,
   "metadata": {},
   "outputs": [],
   "source": [
    "def cntWordInLine(data, senti):\n",
    "    senti_found = []\n",
    "    for onedata in data:\n",
    "        oneline_word = onedata.split(' ')\n",
    "        senti_temp = 0\n",
    "        for sentiword in senti:\n",
    "              if sentiword[0] in oneline_word:\n",
    "                senti_temp += 1\n",
    "        senti_found.append(senti_temp)\n",
    "    return senti_found"
   ]
  },
  {
   "cell_type": "code",
   "execution_count": 82,
   "metadata": {},
   "outputs": [
    {
     "name": "stdout",
     "output_type": "stream",
     "text": [
      "[5, 1, 0, 0, 2, 1, 0, 0, 0, 1, 1, 1, 0, 1, 2, 0, 1, 0, 1, 0]\n",
      "[1, 0, 1, 0, 0, 0, 1, 0, 0, 0, 0, 0, 0, 0, 1, 0, 0, 1, 0, 1]\n"
     ]
    }
   ],
   "source": [
    "data_senti_poscnt = cntWordInLine(data_text, positive)\n",
    "data_senti_negcnt = cntWordInLine(data_text, negative)\n",
    "\n",
    "print(data_senti_poscnt[:20])\n",
    "print(data_senti_negcnt[:20])"
   ]
  },
  {
   "cell_type": "code",
   "execution_count": 83,
   "metadata": {},
   "outputs": [],
   "source": [
    "import pandas as pd "
   ]
  },
  {
   "cell_type": "code",
   "execution_count": 84,
   "metadata": {},
   "outputs": [],
   "source": [
    "newdata = pd.DataFrame({'id' : data_id, 'text' : data_text, 'original' : data_senti,\n",
    "                        'pos' : data_senti_poscnt, 'neg' : data_senti_negcnt})"
   ]
  },
  {
   "cell_type": "code",
   "execution_count": 85,
   "metadata": {},
   "outputs": [],
   "source": [
    "senti_score = newdata['pos'] - newdata['neg']\n",
    "newdata['senti_score'] = senti_score"
   ]
  },
  {
   "cell_type": "code",
   "execution_count": 86,
   "metadata": {},
   "outputs": [],
   "source": [
    "newdata.loc[newdata.senti_score > 0, 'new'] = 1\n",
    "newdata.loc[newdata.senti_score <= 0, 'new'] = 0\n",
    "#senti_score가 0을 넘으면 1로 맵핑\n",
    "#senti_score가 0이거나 넘지못하면 0으로 맵핑 "
   ]
  },
  {
   "cell_type": "code",
   "execution_count": 92,
   "metadata": {
    "scrolled": true
   },
   "outputs": [],
   "source": [
    "newdata.loc[pd.to_numeric(newdata.original) == newdata.new, 'matched'] = 'True'\n",
    "newdata.loc[pd.to_numeric(newdata.original) != newdata.new, 'matched'] = 'False'\n",
    "#4개의 column으로 구성된 df가 만들어지고 pos에서 neg를 뺀 값을 새로운 컬럼에 지정을 하고 score가 0보다 크면 1 작으면 0으로 하고 \n",
    "#위에서 계산한 결과와 실제값을 비교하여 감성사전의 성능을 평가 "
   ]
  },
  {
   "cell_type": "code",
   "execution_count": 96,
   "metadata": {},
   "outputs": [
    {
     "name": "stdout",
     "output_type": "stream",
     "text": [
      "63.0 %\n"
     ]
    }
   ],
   "source": [
    "score = newdata.matched.str.count('True').sum()/ (newdata.matched.str.count('True').sum() \n",
    "                                                 + newdata.matched.str.count('False').sum()) * 100\n",
    "print(score.round(),\"%\")"
   ]
  },
  {
   "cell_type": "code",
   "execution_count": 97,
   "metadata": {},
   "outputs": [],
   "source": [
    "newdata.to_csv('newfile.csv', sep = ',', encoding = 'cp949', index = False)"
   ]
  },
  {
   "cell_type": "code",
   "execution_count": 98,
   "metadata": {},
   "outputs": [],
   "source": [
    "import math"
   ]
  },
  {
   "cell_type": "code",
   "execution_count": 100,
   "metadata": {},
   "outputs": [
    {
     "data": {
      "text/html": [
       "<div>\n",
       "<style scoped>\n",
       "    .dataframe tbody tr th:only-of-type {\n",
       "        vertical-align: middle;\n",
       "    }\n",
       "\n",
       "    .dataframe tbody tr th {\n",
       "        vertical-align: top;\n",
       "    }\n",
       "\n",
       "    .dataframe thead th {\n",
       "        text-align: right;\n",
       "    }\n",
       "</style>\n",
       "<table border=\"1\" class=\"dataframe\">\n",
       "  <thead>\n",
       "    <tr style=\"text-align: right;\">\n",
       "      <th></th>\n",
       "      <th>id</th>\n",
       "      <th>text</th>\n",
       "      <th>original</th>\n",
       "      <th>pos</th>\n",
       "      <th>neg</th>\n",
       "      <th>senti_score</th>\n",
       "      <th>new</th>\n",
       "      <th>matched</th>\n",
       "      <th>sigmoid</th>\n",
       "    </tr>\n",
       "  </thead>\n",
       "  <tbody>\n",
       "    <tr>\n",
       "      <td>0</td>\n",
       "      <td>8132799</td>\n",
       "      <td>디자인 배우 학생 외국 디자이너 일구 전통 통하 발전 문화 산업 부럽 사실 우리나라...</td>\n",
       "      <td>1</td>\n",
       "      <td>5</td>\n",
       "      <td>1</td>\n",
       "      <td>4</td>\n",
       "      <td>1.0</td>\n",
       "      <td>True</td>\n",
       "      <td>0.982014</td>\n",
       "    </tr>\n",
       "    <tr>\n",
       "      <td>1</td>\n",
       "      <td>4655635</td>\n",
       "      <td>폴리스스토리 시리즈 뉴 없 최고</td>\n",
       "      <td>1</td>\n",
       "      <td>1</td>\n",
       "      <td>0</td>\n",
       "      <td>1</td>\n",
       "      <td>1.0</td>\n",
       "      <td>True</td>\n",
       "      <td>0.731059</td>\n",
       "    </tr>\n",
       "    <tr>\n",
       "      <td>2</td>\n",
       "      <td>9251303</td>\n",
       "      <td>와 연기 진짜 쩔 지루 생각하 몰입 그래 이런 진짜 영화</td>\n",
       "      <td>1</td>\n",
       "      <td>0</td>\n",
       "      <td>1</td>\n",
       "      <td>-1</td>\n",
       "      <td>0.0</td>\n",
       "      <td>False</td>\n",
       "      <td>0.268941</td>\n",
       "    </tr>\n",
       "    <tr>\n",
       "      <td>3</td>\n",
       "      <td>10067386</td>\n",
       "      <td>안개 자욱 하 밤하늘 뜨 초승달 같 영화</td>\n",
       "      <td>1</td>\n",
       "      <td>0</td>\n",
       "      <td>0</td>\n",
       "      <td>0</td>\n",
       "      <td>0.0</td>\n",
       "      <td>False</td>\n",
       "      <td>0.500000</td>\n",
       "    </tr>\n",
       "    <tr>\n",
       "      <td>4</td>\n",
       "      <td>2190435</td>\n",
       "      <td>사랑 해보 사람 처음 끝 웃 있 영화</td>\n",
       "      <td>1</td>\n",
       "      <td>2</td>\n",
       "      <td>0</td>\n",
       "      <td>2</td>\n",
       "      <td>1.0</td>\n",
       "      <td>True</td>\n",
       "      <td>0.880797</td>\n",
       "    </tr>\n",
       "    <tr>\n",
       "      <td>...</td>\n",
       "      <td>...</td>\n",
       "      <td>...</td>\n",
       "      <td>...</td>\n",
       "      <td>...</td>\n",
       "      <td>...</td>\n",
       "      <td>...</td>\n",
       "      <td>...</td>\n",
       "      <td>...</td>\n",
       "      <td>...</td>\n",
       "    </tr>\n",
       "    <tr>\n",
       "      <td>197505</td>\n",
       "      <td>8963373</td>\n",
       "      <td>포켓 몬스터 짜가 ㅡㅡ</td>\n",
       "      <td>0</td>\n",
       "      <td>0</td>\n",
       "      <td>0</td>\n",
       "      <td>0</td>\n",
       "      <td>0.0</td>\n",
       "      <td>True</td>\n",
       "      <td>0.500000</td>\n",
       "    </tr>\n",
       "    <tr>\n",
       "      <td>197506</td>\n",
       "      <td>3302770</td>\n",
       "      <td>쓰 레 기</td>\n",
       "      <td>0</td>\n",
       "      <td>0</td>\n",
       "      <td>0</td>\n",
       "      <td>0</td>\n",
       "      <td>0.0</td>\n",
       "      <td>True</td>\n",
       "      <td>0.500000</td>\n",
       "    </tr>\n",
       "    <tr>\n",
       "      <td>197507</td>\n",
       "      <td>5458175</td>\n",
       "      <td>완전 사이코 영화 마지막 더욱더 이 영화 의 질 떨</td>\n",
       "      <td>0</td>\n",
       "      <td>0</td>\n",
       "      <td>1</td>\n",
       "      <td>-1</td>\n",
       "      <td>0.0</td>\n",
       "      <td>True</td>\n",
       "      <td>0.268941</td>\n",
       "    </tr>\n",
       "    <tr>\n",
       "      <td>197508</td>\n",
       "      <td>6908648</td>\n",
       "      <td>왜 재미없 ㅠㅠ 라따뚜이 보 스머프 보 그렇 ㅋㅋ</td>\n",
       "      <td>0</td>\n",
       "      <td>0</td>\n",
       "      <td>0</td>\n",
       "      <td>0</td>\n",
       "      <td>0.0</td>\n",
       "      <td>True</td>\n",
       "      <td>0.500000</td>\n",
       "    </tr>\n",
       "    <tr>\n",
       "      <td>197509</td>\n",
       "      <td>8548411</td>\n",
       "      <td>폭풍 저그 나가 영차 영차 영차</td>\n",
       "      <td>0</td>\n",
       "      <td>0</td>\n",
       "      <td>1</td>\n",
       "      <td>-1</td>\n",
       "      <td>0.0</td>\n",
       "      <td>True</td>\n",
       "      <td>0.268941</td>\n",
       "    </tr>\n",
       "  </tbody>\n",
       "</table>\n",
       "<p>197510 rows × 9 columns</p>\n",
       "</div>"
      ],
      "text/plain": [
       "              id                                               text original  \\\n",
       "0        8132799  디자인 배우 학생 외국 디자이너 일구 전통 통하 발전 문화 산업 부럽 사실 우리나라...        1   \n",
       "1        4655635                                  폴리스스토리 시리즈 뉴 없 최고        1   \n",
       "2        9251303                    와 연기 진짜 쩔 지루 생각하 몰입 그래 이런 진짜 영화        1   \n",
       "3       10067386                             안개 자욱 하 밤하늘 뜨 초승달 같 영화        1   \n",
       "4        2190435                               사랑 해보 사람 처음 끝 웃 있 영화        1   \n",
       "...          ...                                                ...      ...   \n",
       "197505   8963373                                       포켓 몬스터 짜가 ㅡㅡ        0   \n",
       "197506   3302770                                              쓰 레 기        0   \n",
       "197507   5458175                       완전 사이코 영화 마지막 더욱더 이 영화 의 질 떨        0   \n",
       "197508   6908648                        왜 재미없 ㅠㅠ 라따뚜이 보 스머프 보 그렇 ㅋㅋ        0   \n",
       "197509   8548411                                  폭풍 저그 나가 영차 영차 영차        0   \n",
       "\n",
       "        pos  neg  senti_score  new matched   sigmoid  \n",
       "0         5    1            4  1.0    True  0.982014  \n",
       "1         1    0            1  1.0    True  0.731059  \n",
       "2         0    1           -1  0.0   False  0.268941  \n",
       "3         0    0            0  0.0   False  0.500000  \n",
       "4         2    0            2  1.0    True  0.880797  \n",
       "...     ...  ...          ...  ...     ...       ...  \n",
       "197505    0    0            0  0.0    True  0.500000  \n",
       "197506    0    0            0  0.0    True  0.500000  \n",
       "197507    0    1           -1  0.0    True  0.268941  \n",
       "197508    0    0            0  0.0    True  0.500000  \n",
       "197509    0    1           -1  0.0    True  0.268941  \n",
       "\n",
       "[197510 rows x 9 columns]"
      ]
     },
     "execution_count": 100,
     "metadata": {},
     "output_type": "execute_result"
    }
   ],
   "source": [
    "def sigmoid(x):\n",
    "    return 1 / (1 + math.exp(-x))\n",
    "\n",
    "newdata['sigmoid'] = newdata.senti_score.apply(sigmoid)\n",
    "newdata"
   ]
  },
  {
   "cell_type": "code",
   "execution_count": 101,
   "metadata": {},
   "outputs": [
    {
     "name": "stdout",
     "output_type": "stream",
     "text": [
      "         id                                               text original  pos  \\\n",
      "0   8132799  디자인 배우 학생 외국 디자이너 일구 전통 통하 발전 문화 산업 부럽 사실 우리나라...        1    5   \n",
      "1   4655635                                  폴리스스토리 시리즈 뉴 없 최고        1    1   \n",
      "2   9251303                    와 연기 진짜 쩔 지루 생각하 몰입 그래 이런 진짜 영화        1    0   \n",
      "3  10067386                             안개 자욱 하 밤하늘 뜨 초승달 같 영화        1    0   \n",
      "4   2190435                               사랑 해보 사람 처음 끝 웃 있 영화        1    2   \n",
      "\n",
      "   neg  senti_score  new matched   sigmoid  \n",
      "0    1            4  1.0    True  0.982014  \n",
      "1    0            1  1.0    True  0.731059  \n",
      "2    1           -1  0.0   False  0.268941  \n",
      "3    0            0  0.0   False  0.500000  \n",
      "4    0            2  1.0    True  0.880797  \n"
     ]
    }
   ],
   "source": [
    "pd.set_option('display.max_columns', 10)\n",
    "print(newdata.iloc[:5,:])"
   ]
  },
  {
   "cell_type": "code",
   "execution_count": null,
   "metadata": {},
   "outputs": [],
   "source": []
  }
 ],
 "metadata": {
  "kernelspec": {
   "display_name": "Python 3",
   "language": "python",
   "name": "python3"
  },
  "language_info": {
   "codemirror_mode": {
    "name": "ipython",
    "version": 3
   },
   "file_extension": ".py",
   "mimetype": "text/x-python",
   "name": "python",
   "nbconvert_exporter": "python",
   "pygments_lexer": "ipython3",
   "version": "3.7.4"
  }
 },
 "nbformat": 4,
 "nbformat_minor": 2
}
