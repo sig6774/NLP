{
 "cells": [
  {
   "cell_type": "code",
   "execution_count": 2,
   "metadata": {},
   "outputs": [
    {
     "name": "stdout",
     "output_type": "stream",
     "text": [
      "Collecting matplot\n",
      "  Downloading https://files.pythonhosted.org/packages/89/0c/3bd66533148c8c642c56ed08e3a3847c48d2b4e4758ec73093eeb53b70d0/matplot-0.1.9-py2.py3-none-any.whl\n",
      "Requirement already satisfied: matplotlib>=3.1.1 in /Users/Moon/opt/anaconda3/lib/python3.7/site-packages (from matplot) (3.1.1)\n",
      "Collecting pyloco>=0.0.134 (from matplot)\n",
      "\u001b[?25l  Downloading https://files.pythonhosted.org/packages/f8/89/23c6628547cf88fb085182fe66f91c6b16b5706a05684f6589efcf064aee/pyloco-0.0.139-py2.py3-none-any.whl (60kB)\n",
      "\u001b[K     |████████████████████████████████| 61kB 37kB/s eta 0:00:0101\n",
      "\u001b[?25hRequirement already satisfied: cycler>=0.10 in /Users/Moon/opt/anaconda3/lib/python3.7/site-packages (from matplotlib>=3.1.1->matplot) (0.10.0)\n",
      "Requirement already satisfied: kiwisolver>=1.0.1 in /Users/Moon/opt/anaconda3/lib/python3.7/site-packages (from matplotlib>=3.1.1->matplot) (1.1.0)\n",
      "Requirement already satisfied: pyparsing!=2.0.4,!=2.1.2,!=2.1.6,>=2.0.1 in /Users/Moon/opt/anaconda3/lib/python3.7/site-packages (from matplotlib>=3.1.1->matplot) (2.4.2)\n",
      "Requirement already satisfied: python-dateutil>=2.1 in /Users/Moon/opt/anaconda3/lib/python3.7/site-packages (from matplotlib>=3.1.1->matplot) (2.8.0)\n",
      "Requirement already satisfied: numpy>=1.11 in /Users/Moon/opt/anaconda3/lib/python3.7/site-packages (from matplotlib>=3.1.1->matplot) (1.17.2)\n",
      "Collecting ushlex (from pyloco>=0.0.134->matplot)\n",
      "  Downloading https://files.pythonhosted.org/packages/48/e0/33fa11058c8efc51ba3520ceb85c9fa0c5e42ce414b885fcd5e12132d13b/ushlex-0.99.1.tar.gz\n",
      "Collecting websocket-client (from pyloco>=0.0.134->matplot)\n",
      "\u001b[?25l  Downloading https://files.pythonhosted.org/packages/4c/5f/f61b420143ed1c8dc69f9eaec5ff1ac36109d52c80de49d66e0c36c3dfdf/websocket_client-0.57.0-py2.py3-none-any.whl (200kB)\n",
      "\u001b[K     |████████████████████████████████| 204kB 189kB/s eta 0:00:01\n",
      "\u001b[?25hCollecting SimpleWebSocketServer (from pyloco>=0.0.134->matplot)\n",
      "  Downloading https://files.pythonhosted.org/packages/41/9f/c410cceb0c8f55936e302aa128192a96c30cadc21769a5398f37e49b0ac2/SimpleWebsocketServer-0.1.1.tar.gz\n",
      "Collecting typing (from pyloco>=0.0.134->matplot)\n",
      "\u001b[?25l  Downloading https://files.pythonhosted.org/packages/05/d9/6eebe19d46bd05360c9a9aae822e67a80f9242aabbfc58b641b957546607/typing-3.7.4.3.tar.gz (78kB)\n",
      "\u001b[K     |████████████████████████████████| 81kB 132kB/s eta 0:00:011\n",
      "\u001b[?25hCollecting twine (from pyloco>=0.0.134->matplot)\n",
      "  Downloading https://files.pythonhosted.org/packages/ad/db/b2c65078b783c6694bdfa0911bbbe0e2be7fcbc98ff23a99b8be544906b6/twine-3.2.0-py3-none-any.whl\n",
      "Requirement already satisfied: six in /Users/Moon/opt/anaconda3/lib/python3.7/site-packages (from cycler>=0.10->matplotlib>=3.1.1->matplot) (1.12.0)\n",
      "Requirement already satisfied: setuptools in /Users/Moon/opt/anaconda3/lib/python3.7/site-packages (from kiwisolver>=1.0.1->matplotlib>=3.1.1->matplot) (41.4.0)\n",
      "Collecting requests-toolbelt!=0.9.0,>=0.8.0 (from twine->pyloco>=0.0.134->matplot)\n",
      "\u001b[?25l  Downloading https://files.pythonhosted.org/packages/60/ef/7681134338fc097acef8d9b2f8abe0458e4d87559c689a8c306d0957ece5/requests_toolbelt-0.9.1-py2.py3-none-any.whl (54kB)\n",
      "\u001b[K     |████████████████████████████████| 61kB 184kB/s eta 0:00:011\n",
      "\u001b[?25hCollecting readme-renderer>=21.0 (from twine->pyloco>=0.0.134->matplot)\n",
      "  Downloading https://files.pythonhosted.org/packages/54/e4/ed43056d80a4fcc3667e543a59cc6beaf0a3c0eade837e5591e82ad3c25a/readme_renderer-26.0-py2.py3-none-any.whl\n",
      "Requirement already satisfied: pkginfo>=1.4.2 in /Users/Moon/opt/anaconda3/lib/python3.7/site-packages (from twine->pyloco>=0.0.134->matplot) (1.5.0.1)\n",
      "Requirement already satisfied: keyring>=15.1 in /Users/Moon/opt/anaconda3/lib/python3.7/site-packages (from twine->pyloco>=0.0.134->matplot) (18.0.0)\n",
      "Requirement already satisfied: importlib-metadata; python_version < \"3.8\" in /Users/Moon/opt/anaconda3/lib/python3.7/site-packages (from twine->pyloco>=0.0.134->matplot) (0.23)\n",
      "Collecting rfc3986>=1.4.0 (from twine->pyloco>=0.0.134->matplot)\n",
      "  Downloading https://files.pythonhosted.org/packages/78/be/7b8b99fd74ff5684225f50dd0e865393d2265656ef3b4ba9eaaaffe622b8/rfc3986-1.4.0-py2.py3-none-any.whl\n",
      "Requirement already satisfied: requests>=2.20 in /Users/Moon/opt/anaconda3/lib/python3.7/site-packages (from twine->pyloco>=0.0.134->matplot) (2.22.0)\n",
      "Requirement already satisfied: tqdm>=4.14 in /Users/Moon/opt/anaconda3/lib/python3.7/site-packages (from twine->pyloco>=0.0.134->matplot) (4.36.1)\n",
      "Collecting colorama>=0.4.3 (from twine->pyloco>=0.0.134->matplot)\n",
      "  Downloading https://files.pythonhosted.org/packages/c9/dc/45cdef1b4d119eb96316b3117e6d5708a08029992b2fee2c143c7a0a5cc5/colorama-0.4.3-py2.py3-none-any.whl\n",
      "Requirement already satisfied: docutils>=0.13.1 in /Users/Moon/opt/anaconda3/lib/python3.7/site-packages (from readme-renderer>=21.0->twine->pyloco>=0.0.134->matplot) (0.15.2)\n",
      "Collecting Pygments>=2.5.1 (from readme-renderer>=21.0->twine->pyloco>=0.0.134->matplot)\n",
      "\u001b[?25l  Downloading https://files.pythonhosted.org/packages/2d/68/106af3ae51daf807e9cdcba6a90e518954eb8b70341cee52995540a53ead/Pygments-2.6.1-py3-none-any.whl (914kB)\n",
      "\u001b[K     |████████████████████████████████| 921kB 217kB/s eta 0:00:01\n",
      "\u001b[?25hRequirement already satisfied: bleach>=2.1.0 in /Users/Moon/opt/anaconda3/lib/python3.7/site-packages (from readme-renderer>=21.0->twine->pyloco>=0.0.134->matplot) (3.1.0)\n",
      "Requirement already satisfied: entrypoints in /Users/Moon/opt/anaconda3/lib/python3.7/site-packages (from keyring>=15.1->twine->pyloco>=0.0.134->matplot) (0.3)\n",
      "Requirement already satisfied: zipp>=0.5 in /Users/Moon/opt/anaconda3/lib/python3.7/site-packages (from importlib-metadata; python_version < \"3.8\"->twine->pyloco>=0.0.134->matplot) (0.6.0)\n",
      "Requirement already satisfied: urllib3!=1.25.0,!=1.25.1,<1.26,>=1.21.1 in /Users/Moon/opt/anaconda3/lib/python3.7/site-packages (from requests>=2.20->twine->pyloco>=0.0.134->matplot) (1.24.2)\n",
      "Requirement already satisfied: chardet<3.1.0,>=3.0.2 in /Users/Moon/opt/anaconda3/lib/python3.7/site-packages (from requests>=2.20->twine->pyloco>=0.0.134->matplot) (3.0.4)\n",
      "Requirement already satisfied: idna<2.9,>=2.5 in /Users/Moon/opt/anaconda3/lib/python3.7/site-packages (from requests>=2.20->twine->pyloco>=0.0.134->matplot) (2.8)\n",
      "Requirement already satisfied: certifi>=2017.4.17 in /Users/Moon/opt/anaconda3/lib/python3.7/site-packages (from requests>=2.20->twine->pyloco>=0.0.134->matplot) (2019.9.11)\n",
      "Requirement already satisfied: webencodings in /Users/Moon/opt/anaconda3/lib/python3.7/site-packages (from bleach>=2.1.0->readme-renderer>=21.0->twine->pyloco>=0.0.134->matplot) (0.5.1)\n",
      "Requirement already satisfied: more-itertools in /Users/Moon/opt/anaconda3/lib/python3.7/site-packages (from zipp>=0.5->importlib-metadata; python_version < \"3.8\"->twine->pyloco>=0.0.134->matplot) (7.2.0)\n",
      "Building wheels for collected packages: ushlex, SimpleWebSocketServer, typing\n",
      "  Building wheel for ushlex (setup.py) ... \u001b[?25ldone\n",
      "\u001b[?25h  Created wheel for ushlex: filename=ushlex-0.99.1-cp37-none-any.whl size=4415 sha256=1b9654c9da39a4db3a54ef9135ca319025672851862d3946cd3c589ed717545d\n",
      "  Stored in directory: /Users/Moon/Library/Caches/pip/wheels/b8/f2/ed/ea55f33eb524ba8afcfd55e93a6facc96ff23d637e4e609f6d\n",
      "  Building wheel for SimpleWebSocketServer (setup.py) ... \u001b[?25ldone\n",
      "\u001b[?25h  Created wheel for SimpleWebSocketServer: filename=SimpleWebSocketServer-0.1.1-cp37-none-any.whl size=9492 sha256=c0c7ceb891ac02ba71542653efc25e99756eaaf4ee14590924f45694eb8d98a9\n",
      "  Stored in directory: /Users/Moon/Library/Caches/pip/wheels/9f/d7/59/3026f39bd579bf6b18560faa960fd38957f31fe5ed845433e3\n",
      "  Building wheel for typing (setup.py) ... \u001b[?25ldone\n",
      "\u001b[?25h  Created wheel for typing: filename=typing-3.7.4.3-cp37-none-any.whl size=26308 sha256=94b4c0dffef23d84aef4f7403f428d3a62a2fa8380e6cbe2ca1b6d9f66d306b5\n",
      "  Stored in directory: /Users/Moon/Library/Caches/pip/wheels/2d/04/41/8e1836e79581989c22eebac3f4e70aaac9af07b0908da173be\n",
      "Successfully built ushlex SimpleWebSocketServer typing\n",
      "\u001b[31mERROR: spyder 3.3.6 requires pyqt5<5.13; python_version >= \"3\", which is not installed.\u001b[0m\n",
      "\u001b[31mERROR: spyder 3.3.6 requires pyqtwebengine<5.13; python_version >= \"3\", which is not installed.\u001b[0m\n",
      "Installing collected packages: ushlex, websocket-client, SimpleWebSocketServer, typing, requests-toolbelt, Pygments, readme-renderer, rfc3986, colorama, twine, pyloco, matplot\n"
     ]
    },
    {
     "name": "stdout",
     "output_type": "stream",
     "text": [
      "  Found existing installation: Pygments 2.4.2\n",
      "    Uninstalling Pygments-2.4.2:\n",
      "      Successfully uninstalled Pygments-2.4.2\n",
      "  Found existing installation: colorama 0.4.1\n",
      "    Uninstalling colorama-0.4.1:\n",
      "      Successfully uninstalled colorama-0.4.1\n",
      "Successfully installed Pygments-2.6.1 SimpleWebSocketServer-0.1.1 colorama-0.4.3 matplot-0.1.9 pyloco-0.0.139 readme-renderer-26.0 requests-toolbelt-0.9.1 rfc3986-1.4.0 twine-3.2.0 typing-3.7.4.3 ushlex-0.99.1 websocket-client-0.57.0\n"
     ]
    }
   ],
   "source": [
    "!pip install matplot"
   ]
  },
  {
   "cell_type": "code",
   "execution_count": 15,
   "metadata": {},
   "outputs": [],
   "source": [
    "import matplot as mpl\n",
    "import matplotlib.pyplot as plt \n",
    "import matplotlib.font_manager as fm\n",
    "import rhinoMorph"
   ]
  },
  {
   "cell_type": "code",
   "execution_count": 19,
   "metadata": {},
   "outputs": [
    {
     "name": "stdout",
     "output_type": "stream",
     "text": [
      "filepath:  /Users/Moon/opt/anaconda3/lib/python3.7/site-packages\n",
      "classpath:  /Users/Moon/opt/anaconda3/lib/python3.7/site-packages/rhinoMorph/lib/rhino.jar\n",
      "RHINO started!\n"
     ]
    }
   ],
   "source": [
    "rn = rhinoMorph.startRhino()"
   ]
  },
  {
   "cell_type": "code",
   "execution_count": 26,
   "metadata": {},
   "outputs": [],
   "source": [
    "def read_data(filename, encoding = 'cp949'):\n",
    "    with open(filename, 'r', encoding = encoding ) as f:\n",
    "        data =[line.split(\"\\t\") for line in f.read().splitlines()]\n",
    "        data = data[1:]\n",
    "    return data\n",
    "  #읽기 함수\n",
    "#읽기 함수 "
   ]
  },
  {
   "cell_type": "code",
   "execution_count": 27,
   "metadata": {},
   "outputs": [],
   "source": [
    "def write_data(data, filename, encoding = 'cp949'):\n",
    "    with open(filename, 'w', encoding = encoding ) as f:\n",
    "        f.write(data)\n",
    "#쓰기 함수"
   ]
  },
  {
   "cell_type": "code",
   "execution_count": 28,
   "metadata": {},
   "outputs": [],
   "source": [
    "data = read_data('/Users/Moon/Desktop/빅데이터 청년인재/NLP/pytest/ratings_small.txt', encoding = 'cp949')"
   ]
  },
  {
   "cell_type": "code",
   "execution_count": 29,
   "metadata": {
    "scrolled": true
   },
   "outputs": [
    {
     "name": "stdout",
     "output_type": "stream",
     "text": [
      "500\n",
      "[['8112052', '어릴때보고 지금다시봐도 재밌어요ㅋㅋ', '1'], ['8132799', '\"디자인을 배우는 학생으로, 외국디자이너와 그들이 일군 전통을 통해 발전해가는 문화산업이 부러웠는데. 사실 우리나라에서도 그 어려운시절에 끝까지 열정을 지킨 노라노 같은 전통이있어 저와 같은 사람들이 꿈을 꾸고 이뤄나갈 수 있다는 것에 감사합니다.\"', '1']]\n"
     ]
    }
   ],
   "source": [
    "print(len(data))\n",
    "print(data[:2])"
   ]
  },
  {
   "cell_type": "code",
   "execution_count": 30,
   "metadata": {},
   "outputs": [
    {
     "data": {
      "text/plain": [
       "['8112052', '어릴때보고 지금다시봐도 재밌어요ㅋㅋ', '1']"
      ]
     },
     "execution_count": 30,
     "metadata": {},
     "output_type": "execute_result"
    }
   ],
   "source": [
    "data[0]"
   ]
  },
  {
   "cell_type": "code",
   "execution_count": 31,
   "metadata": {},
   "outputs": [
    {
     "name": "stdout",
     "output_type": "stream",
     "text": [
      "sample data :  ['어리다', '때', '보다', '지금', '다시', '보다', '재미있다', 'ㅋㅋ']\n",
      "joined sample data : 어리다 때 보다 지금 다시 보다 재미있다 ㅋㅋ\n"
     ]
    }
   ],
   "source": [
    "sample_data = rhinoMorph.onlyMorph_list(\n",
    "    rn, data[0][1], pos = ['NNG', 'NNP', 'VV', 'VA', 'XR', 'IC', 'MM', 'MAG', 'MAG'], eomi = True)\n",
    "\n",
    "print('sample data : ', sample_data) # 형태소 분석 결과 \n",
    "print('joined sample data :', ' '.join(sample_data))\n",
    "#eomi : 동사나 형용사에 '다'를 붙여주는 함수(빈도분석을 할 때 중요 )\n",
    "#빈도분석을 할 때에는 eomi를 True로 해줘야 한다 \n",
    "#join함수를 사용하여 리스트가 아니라 하나의 텍스트로 변환이 된다\n",
    "#join을 사용하여 하나의 텍스트로 묶으면 영어와 유사한 형태로 변환이 되어 영어에서 사용할 수 있는 기법도 사용이 가능함\n"
   ]
  },
  {
   "cell_type": "code",
   "execution_count": null,
   "metadata": {},
   "outputs": [],
   "source": []
  }
 ],
 "metadata": {
  "kernelspec": {
   "display_name": "Python 3",
   "language": "python",
   "name": "python3"
  },
  "language_info": {
   "codemirror_mode": {
    "name": "ipython",
    "version": 3
   },
   "file_extension": ".py",
   "mimetype": "text/x-python",
   "name": "python",
   "nbconvert_exporter": "python",
   "pygments_lexer": "ipython3",
   "version": "3.7.4"
  }
 },
 "nbformat": 4,
 "nbformat_minor": 2
}
