{
 "cells": [
  {
   "cell_type": "code",
   "execution_count": 1,
   "metadata": {},
   "outputs": [],
   "source": [
    "import pandas as pd"
   ]
  },
  {
   "cell_type": "code",
   "execution_count": 2,
   "metadata": {},
   "outputs": [],
   "source": [
    "data = pd.read_csv('./data/Kakao Talk.csv')"
   ]
  },
  {
   "cell_type": "code",
   "execution_count": 3,
   "metadata": {},
   "outputs": [
    {
     "name": "stdout",
     "output_type": "stream",
     "text": [
      "<class 'pandas.core.frame.DataFrame'>\n",
      "RangeIndex: 8153 entries, 0 to 8152\n",
      "Data columns (total 3 columns):\n",
      "Date       8153 non-null object\n",
      "User       8153 non-null object\n",
      "Message    8153 non-null object\n",
      "dtypes: object(3)\n",
      "memory usage: 191.2+ KB\n",
      "None\n"
     ]
    }
   ],
   "source": [
    "print(data.info())\n",
    "#3개의 컬럼과 8153개의 행으로 구성 "
   ]
  },
  {
   "cell_type": "code",
   "execution_count": 4,
   "metadata": {
    "scrolled": true
   },
   "outputs": [
    {
     "data": {
      "text/html": [
       "<div>\n",
       "<style scoped>\n",
       "    .dataframe tbody tr th:only-of-type {\n",
       "        vertical-align: middle;\n",
       "    }\n",
       "\n",
       "    .dataframe tbody tr th {\n",
       "        vertical-align: top;\n",
       "    }\n",
       "\n",
       "    .dataframe thead th {\n",
       "        text-align: right;\n",
       "    }\n",
       "</style>\n",
       "<table border=\"1\" class=\"dataframe\">\n",
       "  <thead>\n",
       "    <tr style=\"text-align: right;\">\n",
       "      <th></th>\n",
       "      <th>Date</th>\n",
       "      <th>User</th>\n",
       "      <th>Message</th>\n",
       "    </tr>\n",
       "  </thead>\n",
       "  <tbody>\n",
       "    <tr>\n",
       "      <td>0</td>\n",
       "      <td>2019-01-19 21:49:12</td>\n",
       "      <td>미래투기꾼</td>\n",
       "      <td>26</td>\n",
       "    </tr>\n",
       "    <tr>\n",
       "      <td>1</td>\n",
       "      <td>2019-01-19 21:49:13</td>\n",
       "      <td>미래투기꾼</td>\n",
       "      <td>27</td>\n",
       "    </tr>\n",
       "    <tr>\n",
       "      <td>2</td>\n",
       "      <td>2019-01-19 21:49:15</td>\n",
       "      <td>미래투기꾼</td>\n",
       "      <td>28 집빈다</td>\n",
       "    </tr>\n",
       "    <tr>\n",
       "      <td>3</td>\n",
       "      <td>2019-01-19 21:49:24</td>\n",
       "      <td>미래투기꾼</td>\n",
       "      <td>근데 27일 일나가고</td>\n",
       "    </tr>\n",
       "    <tr>\n",
       "      <td>4</td>\n",
       "      <td>2019-01-19 21:49:30</td>\n",
       "      <td>미래투기꾼</td>\n",
       "      <td>28일 스케줄 모른다</td>\n",
       "    </tr>\n",
       "    <tr>\n",
       "      <td>5</td>\n",
       "      <td>2019-01-19 21:49:42</td>\n",
       "      <td>미래투기꾼</td>\n",
       "      <td>27일 일빼볼테니까</td>\n",
       "    </tr>\n",
       "    <tr>\n",
       "      <td>6</td>\n",
       "      <td>2019-01-19 21:49:48</td>\n",
       "      <td>미래투기꾼</td>\n",
       "      <td>올 수있는분?</td>\n",
       "    </tr>\n",
       "    <tr>\n",
       "      <td>7</td>\n",
       "      <td>2019-01-19 21:49:54</td>\n",
       "      <td>미래투기꾼</td>\n",
       "      <td>참고로 토일월임</td>\n",
       "    </tr>\n",
       "    <tr>\n",
       "      <td>8</td>\n",
       "      <td>2019-01-19 21:59:39</td>\n",
       "      <td>문경록</td>\n",
       "      <td>이야</td>\n",
       "    </tr>\n",
       "    <tr>\n",
       "      <td>9</td>\n",
       "      <td>2019-01-19 22:00:12</td>\n",
       "      <td>문경록</td>\n",
       "      <td>갈수는 있는데</td>\n",
       "    </tr>\n",
       "    <tr>\n",
       "      <td>10</td>\n",
       "      <td>2019-01-19 22:00:14</td>\n",
       "      <td>문경록</td>\n",
       "      <td>돈이 없다</td>\n",
       "    </tr>\n",
       "    <tr>\n",
       "      <td>11</td>\n",
       "      <td>2019-01-19 22:09:44</td>\n",
       "      <td>탈모르파티</td>\n",
       "      <td>이야</td>\n",
       "    </tr>\n",
       "    <tr>\n",
       "      <td>12</td>\n",
       "      <td>2019-01-19 22:10:15</td>\n",
       "      <td>탈모르파티</td>\n",
       "      <td>내는토욜학원마치고잘수있음</td>\n",
       "    </tr>\n",
       "    <tr>\n",
       "      <td>13</td>\n",
       "      <td>2019-01-19 22:20:11</td>\n",
       "      <td>미래투기꾼</td>\n",
       "      <td>밑밥깔지마라</td>\n",
       "    </tr>\n",
       "    <tr>\n",
       "      <td>14</td>\n",
       "      <td>2019-01-19 22:20:13</td>\n",
       "      <td>미래투기꾼</td>\n",
       "      <td>개새끼들아</td>\n",
       "    </tr>\n",
       "    <tr>\n",
       "      <td>15</td>\n",
       "      <td>2019-01-19 22:20:20</td>\n",
       "      <td>미래투기꾼</td>\n",
       "      <td>돈은 내가 제일많이 낼테니까</td>\n",
       "    </tr>\n",
       "    <tr>\n",
       "      <td>16</td>\n",
       "      <td>2019-01-19 22:20:34</td>\n",
       "      <td>탈모르파티</td>\n",
       "      <td>ㅎㄷㄷ</td>\n",
       "    </tr>\n",
       "    <tr>\n",
       "      <td>17</td>\n",
       "      <td>2019-01-19 22:20:41</td>\n",
       "      <td>탈모르파티</td>\n",
       "      <td>차리스마</td>\n",
       "    </tr>\n",
       "    <tr>\n",
       "      <td>18</td>\n",
       "      <td>2019-01-19 22:20:42</td>\n",
       "      <td>탈모르파티</td>\n",
       "      <td>오지노</td>\n",
       "    </tr>\n",
       "    <tr>\n",
       "      <td>19</td>\n",
       "      <td>2019-01-19 22:21:21</td>\n",
       "      <td>미래투기꾼</td>\n",
       "      <td>당일</td>\n",
       "    </tr>\n",
       "  </tbody>\n",
       "</table>\n",
       "</div>"
      ],
      "text/plain": [
       "                   Date   User          Message\n",
       "0   2019-01-19 21:49:12  미래투기꾼               26\n",
       "1   2019-01-19 21:49:13  미래투기꾼               27\n",
       "2   2019-01-19 21:49:15  미래투기꾼           28 집빈다\n",
       "3   2019-01-19 21:49:24  미래투기꾼      근데 27일 일나가고\n",
       "4   2019-01-19 21:49:30  미래투기꾼      28일 스케줄 모른다\n",
       "5   2019-01-19 21:49:42  미래투기꾼       27일 일빼볼테니까\n",
       "6   2019-01-19 21:49:48  미래투기꾼          올 수있는분?\n",
       "7   2019-01-19 21:49:54  미래투기꾼         참고로 토일월임\n",
       "8   2019-01-19 21:59:39    문경록               이야\n",
       "9   2019-01-19 22:00:12    문경록          갈수는 있는데\n",
       "10  2019-01-19 22:00:14    문경록            돈이 없다\n",
       "11  2019-01-19 22:09:44  탈모르파티               이야\n",
       "12  2019-01-19 22:10:15  탈모르파티    내는토욜학원마치고잘수있음\n",
       "13  2019-01-19 22:20:11  미래투기꾼           밑밥깔지마라\n",
       "14  2019-01-19 22:20:13  미래투기꾼            개새끼들아\n",
       "15  2019-01-19 22:20:20  미래투기꾼  돈은 내가 제일많이 낼테니까\n",
       "16  2019-01-19 22:20:34  탈모르파티              ㅎㄷㄷ\n",
       "17  2019-01-19 22:20:41  탈모르파티             차리스마\n",
       "18  2019-01-19 22:20:42  탈모르파티              오지노\n",
       "19  2019-01-19 22:21:21  미래투기꾼               당일"
      ]
     },
     "execution_count": 4,
     "metadata": {},
     "output_type": "execute_result"
    }
   ],
   "source": [
    "data.head(20)"
   ]
  },
  {
   "cell_type": "code",
   "execution_count": 8,
   "metadata": {},
   "outputs": [],
   "source": [
    "corpus = data['Message']\n",
    "#메세지만 출력 "
   ]
  },
  {
   "cell_type": "code",
   "execution_count": 9,
   "metadata": {
    "scrolled": true
   },
   "outputs": [
    {
     "data": {
      "text/plain": [
       "0                     26\n",
       "1                     27\n",
       "2                 28 집빈다\n",
       "3            근데 27일 일나가고\n",
       "4            28일 스케줄 모른다\n",
       "              ...       \n",
       "8148                  사진\n",
       "8149                  사진\n",
       "8150          3성이 무려5개ㄷㄷ\n",
       "8151    이제 아이디는 무조건 소방이네\n",
       "8152          저거아이디1년전꺼임\n",
       "Name: Message, Length: 8153, dtype: object"
      ]
     },
     "execution_count": 9,
     "metadata": {},
     "output_type": "execute_result"
    }
   ],
   "source": [
    "corpus"
   ]
  },
  {
   "cell_type": "markdown",
   "metadata": {},
   "source": [
    "### 어떤것을 전처리해야할지는 모른다\n",
    "#### 정제되지 않고 노이즈가 상당히 많은 데이터"
   ]
  },
  {
   "cell_type": "code",
   "execution_count": 10,
   "metadata": {},
   "outputs": [
    {
     "name": "stdout",
     "output_type": "stream",
     "text": [
      "13692\n"
     ]
    }
   ],
   "source": [
    "#어떤것을 전처리해야할지를 모르기때문에 전체 데이터의 특징을 빈도분석으로 파악\n",
    "import nltk\n",
    "\n",
    "total_tokens = [token for mag in corpus for token in str(mag).split()]\n",
    "#토큰으로 나눌려면 str로 바꿔야하고 그것을 토큰마다 자르는 거\n",
    "print(len(total_tokens))\n",
    "\n",
    "#13692개의 토큰이 존재 "
   ]
  },
  {
   "cell_type": "code",
   "execution_count": 11,
   "metadata": {},
   "outputs": [
    {
     "name": "stdout",
     "output_type": "stream",
     "text": [
      "8658\n",
      "[('근데', 91), ('아', 86), ('?', 77), ('ㅇㅇ', 75), ('이모티콘', 68), ('그럼', 67), ('존나', 60), ('오늘', 58), ('일단', 58), ('사진', 56)]\n"
     ]
    }
   ],
   "source": [
    "text = nltk.Text(total_tokens, name='NMSC')\n",
    "print(len(set(text.tokens)))\n",
    "#유니크한 토큰들은 8658개 \n",
    "\n",
    "print(text.vocab().most_common(10))\n",
    "#가장 많이 사용된 토큰 10개 추출 "
   ]
  },
  {
   "cell_type": "code",
   "execution_count": 12,
   "metadata": {},
   "outputs": [
    {
     "data": {
      "image/png": "[encoded data removed]",
      "text/plain": [
       "<Figure size 1152x720 with 1 Axes>"
      ]
     },
     "metadata": {
      "needs_background": "light"
     },
     "output_type": "display_data"
    }
   ],
   "source": [
    "import matplotlib.pyplot as plt\n",
    "import platform\n",
    "from matplotlib import font_manager, rc\n",
    "%matplotlib inline\n",
    "\n",
    "path = \"c:/Windows/Fonts/malgun.ttf\"\n",
    "if platform.system() == 'Darwin':\n",
    "    rc('font', family='AppleGothic')\n",
    "elif platform.system() == 'Windows':\n",
    "    font_name = font_manager.FontProperties(fname=path).get_name()\n",
    "    rc('font', family=font_name)\n",
    "else:\n",
    "    print('Unknown system... sorry~~~~')\n",
    "\n",
    "plt.figure(figsize=(16, 10))\n",
    "text.plot(70)\n",
    "#그다지 중요한 내용은 없어보이므로 이제부터 정제를 해야한다 "
   ]
  },
  {
   "cell_type": "code",
   "execution_count": 13,
   "metadata": {},
   "outputs": [],
   "source": [
    "import re\n",
    "\n",
    "def message_cleaning(docs):\n",
    "    #리뷰만을 추출한 corpus라는 객체에서 의미없는 부분을 제거 \n",
    "\n",
    "\n",
    "    # Series의 object를 str로 변경.\n",
    "    docs = [str(doc) for doc in corpus]\n",
    "    \n",
    "    # 1 사진이랑 이모티콘 제거 \n",
    "    pattern1 = re.compile(\"Photo|Emoticon\")\n",
    "    docs = [pattern1.sub(\"\", doc) for doc in docs]\n",
    "    \n",
    "    # 2 자음표현 제거 \n",
    "    pattern2 = re.compile(\"[ㄱ-ㅎ]*[ㅏ-ㅢ]*\")\n",
    "    docs = [pattern2.sub(\"\", doc) for doc in docs]\n",
    "    \n",
    "    # 3 하이퍼링크 제거\n",
    "    pattern3 = re.compile(r\"\\b(https?:\\/\\/)?([\\w.]+){1,2}(\\.[\\w]{2,4}){1,2}(.*)\")\n",
    "    docs = [pattern3.sub(\"\", doc) for doc in docs]\n",
    "    \n",
    "    # 4 특수문자 제거 \n",
    "    pattern4 = re.compile(\"[\\{\\}\\[\\]\\/?.,;:|\\)*~`!^\\-_+<>@\\#$%&\\\\\\=\\(\\'\\\"]\")\n",
    "    docs = [pattern4.sub(\"\", doc) for doc in docs]\n",
    "\n",
    "    return docs\n",
    "\n",
    "def define_stopwords(path):\n",
    "    \n",
    "    SW = set()\n",
    "    \n",
    "    with open(path) as f:\n",
    "        for word in f:\n",
    "            SW.add(word)\n",
    "            \n",
    "    return SW\n",
    "\n",
    "def text_tokenizing(doc):\n",
    "    return [word for word in mecab.morphs(doc) if word not in SW and len(word) > 1]\n",
    "    \n",
    "    # wordcloud를 위해 명사만 추출하는 경우.\n",
    "    #return [word for word in mecab.nouns(doc) if word not in SW and len(word) > 1]"
   ]
  },
  {
   "cell_type": "code",
   "execution_count": 14,
   "metadata": {},
   "outputs": [
    {
     "name": "stdout",
     "output_type": "stream",
     "text": [
      "8153\n",
      "['26', '27', '28 집빈다', '근데 27일 일나가고', '28일 스케줄 모른다', '27일 일빼볼테니까', '올 수있는분', '참고로 토일월임', '이야', '갈수는 있는데']\n"
     ]
    }
   ],
   "source": [
    "SW = define_stopwords(\"data/stopwords-ko.txt\")\n",
    "# 카카오톡 텍스트를 정제합니다.\n",
    "cleaned_corpus = message_cleaning(corpus)\n",
    "print(len(cleaned_corpus))\n",
    "print(cleaned_corpus[:10])"
   ]
  },
  {
   "cell_type": "code",
   "execution_count": 17,
   "metadata": {},
   "outputs": [
    {
     "name": "stdout",
     "output_type": "stream",
     "text": [
      "<class 'pandas.core.frame.DataFrame'>\n",
      "Int64Index: 7442 entries, 0 to 8152\n",
      "Data columns (total 3 columns):\n",
      "Date       7442 non-null object\n",
      "User       7442 non-null object\n",
      "Message    7442 non-null object\n",
      "dtypes: object(3)\n",
      "memory usage: 232.6+ KB\n"
     ]
    }
   ],
   "source": [
    "# 위의 결과를 보면 '' 빈칸이 있는데 이것들을 삭제하는 과정\n",
    "# 정제되어 지워지는 텍스트를 확인하고 지워줌\n",
    "\n",
    "cleaned_text = pd.Series(cleaned_corpus)\n",
    "#시리즈를 하는 이유는 원래 있던 csv파일에 붙여주기 위해서 변환\n",
    "data['Message'] = cleaned_text\n",
    "\n",
    "cleaned_data = data[data['Message'] != ''] \n",
    "#data에서 비어있는 부분을 제외하고 인덱싱 조건\n",
    "\n",
    "cleaned_data.info()\n",
    "#8153개에서 7442개로 빈부분들이 삭제된것을 확인 "
   ]
  },
  {
   "cell_type": "code",
   "execution_count": 19,
   "metadata": {},
   "outputs": [],
   "source": [
    "# 정제된 데이터 저장\n",
    "\n",
    "import pickle\n",
    "\n",
    "with open('cleaned_data.pk' , 'wb') as f:\n",
    "    pickle.dump(cleaned_data, f)"
   ]
  },
  {
   "cell_type": "code",
   "execution_count": null,
   "metadata": {},
   "outputs": [],
   "source": []
  }
 ],
 "metadata": {
  "kernelspec": {
   "display_name": "Python 3",
   "language": "python",
   "name": "python3"
  },
  "language_info": {
   "codemirror_mode": {
    "name": "ipython",
    "version": 3
   },
   "file_extension": ".py",
   "mimetype": "text/x-python",
   "name": "python",
   "nbconvert_exporter": "python",
   "pygments_lexer": "ipython3",
   "version": "3.7.4"
  }
 },
 "nbformat": 4,
 "nbformat_minor": 2
}
